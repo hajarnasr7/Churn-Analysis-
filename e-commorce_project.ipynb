{
 "cells": [
  {
   "cell_type": "code",
   "execution_count": 1,
   "id": "9510461b-3494-4b76-8c83-d27b29e40457",
   "metadata": {},
   "outputs": [],
   "source": [
    "import numpy as np\n",
    "import pandas as pd"
   ]
  },
  {
   "cell_type": "code",
   "execution_count": 2,
   "id": "7a2bfcee-dab0-46be-acbd-395e87dda5d0",
   "metadata": {},
   "outputs": [],
   "source": [
    "df = pd.read_excel('E Commerce Dataset.xlsx')"
   ]
  },
  {
   "cell_type": "markdown",
   "id": "f6c092a7-e730-485c-8863-a1316eba4cce",
   "metadata": {},
   "source": [
    "exploring the data"
   ]
  },
  {
   "cell_type": "code",
   "execution_count": 4,
   "id": "26831880-7f79-4628-b49f-307845874c0b",
   "metadata": {},
   "outputs": [
    {
     "data": {
      "text/html": [
       "<div>\n",
       "<style scoped>\n",
       "    .dataframe tbody tr th:only-of-type {\n",
       "        vertical-align: middle;\n",
       "    }\n",
       "\n",
       "    .dataframe tbody tr th {\n",
       "        vertical-align: top;\n",
       "    }\n",
       "\n",
       "    .dataframe thead th {\n",
       "        text-align: right;\n",
       "    }\n",
       "</style>\n",
       "<table border=\"1\" class=\"dataframe\">\n",
       "  <thead>\n",
       "    <tr style=\"text-align: right;\">\n",
       "      <th></th>\n",
       "      <th>CustomerID</th>\n",
       "      <th>Churn</th>\n",
       "      <th>Tenure</th>\n",
       "      <th>PreferredLoginDevice</th>\n",
       "      <th>CityTier</th>\n",
       "      <th>WarehouseToHome</th>\n",
       "      <th>PreferredPaymentMode</th>\n",
       "      <th>Gender</th>\n",
       "      <th>HourSpendOnApp</th>\n",
       "      <th>NumberOfDeviceRegistered</th>\n",
       "      <th>PreferedOrderCat</th>\n",
       "      <th>SatisfactionScore</th>\n",
       "      <th>MaritalStatus</th>\n",
       "      <th>NumberOfAddress</th>\n",
       "      <th>Complain</th>\n",
       "      <th>OrderAmountHikeFromlastYear</th>\n",
       "      <th>CouponUsed</th>\n",
       "      <th>OrderCount</th>\n",
       "      <th>DaySinceLastOrder</th>\n",
       "      <th>CashbackAmount</th>\n",
       "    </tr>\n",
       "  </thead>\n",
       "  <tbody>\n",
       "    <tr>\n",
       "      <th>5620</th>\n",
       "      <td>55621</td>\n",
       "      <td>0</td>\n",
       "      <td>3.0</td>\n",
       "      <td>Mobile Phone</td>\n",
       "      <td>1</td>\n",
       "      <td>35.0</td>\n",
       "      <td>Credit Card</td>\n",
       "      <td>Female</td>\n",
       "      <td>4.0</td>\n",
       "      <td>5</td>\n",
       "      <td>Mobile Phone</td>\n",
       "      <td>5</td>\n",
       "      <td>Single</td>\n",
       "      <td>3</td>\n",
       "      <td>0</td>\n",
       "      <td>15.0</td>\n",
       "      <td>1.0</td>\n",
       "      <td>2.0</td>\n",
       "      <td>5.0</td>\n",
       "      <td>162.85</td>\n",
       "    </tr>\n",
       "    <tr>\n",
       "      <th>5621</th>\n",
       "      <td>55622</td>\n",
       "      <td>1</td>\n",
       "      <td>14.0</td>\n",
       "      <td>Mobile Phone</td>\n",
       "      <td>3</td>\n",
       "      <td>35.0</td>\n",
       "      <td>E wallet</td>\n",
       "      <td>Male</td>\n",
       "      <td>3.0</td>\n",
       "      <td>5</td>\n",
       "      <td>Fashion</td>\n",
       "      <td>5</td>\n",
       "      <td>Married</td>\n",
       "      <td>6</td>\n",
       "      <td>1</td>\n",
       "      <td>14.0</td>\n",
       "      <td>3.0</td>\n",
       "      <td>NaN</td>\n",
       "      <td>1.0</td>\n",
       "      <td>233.54</td>\n",
       "    </tr>\n",
       "    <tr>\n",
       "      <th>5622</th>\n",
       "      <td>55623</td>\n",
       "      <td>0</td>\n",
       "      <td>13.0</td>\n",
       "      <td>Mobile Phone</td>\n",
       "      <td>3</td>\n",
       "      <td>31.0</td>\n",
       "      <td>E wallet</td>\n",
       "      <td>Female</td>\n",
       "      <td>3.0</td>\n",
       "      <td>5</td>\n",
       "      <td>Grocery</td>\n",
       "      <td>1</td>\n",
       "      <td>Married</td>\n",
       "      <td>2</td>\n",
       "      <td>0</td>\n",
       "      <td>12.0</td>\n",
       "      <td>4.0</td>\n",
       "      <td>NaN</td>\n",
       "      <td>7.0</td>\n",
       "      <td>245.31</td>\n",
       "    </tr>\n",
       "    <tr>\n",
       "      <th>5623</th>\n",
       "      <td>55624</td>\n",
       "      <td>0</td>\n",
       "      <td>5.0</td>\n",
       "      <td>Computer</td>\n",
       "      <td>1</td>\n",
       "      <td>12.0</td>\n",
       "      <td>Credit Card</td>\n",
       "      <td>Male</td>\n",
       "      <td>4.0</td>\n",
       "      <td>4</td>\n",
       "      <td>Laptop &amp; Accessory</td>\n",
       "      <td>5</td>\n",
       "      <td>Single</td>\n",
       "      <td>2</td>\n",
       "      <td>0</td>\n",
       "      <td>20.0</td>\n",
       "      <td>2.0</td>\n",
       "      <td>2.0</td>\n",
       "      <td>NaN</td>\n",
       "      <td>224.36</td>\n",
       "    </tr>\n",
       "    <tr>\n",
       "      <th>5624</th>\n",
       "      <td>55625</td>\n",
       "      <td>0</td>\n",
       "      <td>1.0</td>\n",
       "      <td>Mobile Phone</td>\n",
       "      <td>3</td>\n",
       "      <td>12.0</td>\n",
       "      <td>UPI</td>\n",
       "      <td>Female</td>\n",
       "      <td>2.0</td>\n",
       "      <td>5</td>\n",
       "      <td>Mobile Phone</td>\n",
       "      <td>3</td>\n",
       "      <td>Single</td>\n",
       "      <td>2</td>\n",
       "      <td>0</td>\n",
       "      <td>19.0</td>\n",
       "      <td>2.0</td>\n",
       "      <td>2.0</td>\n",
       "      <td>1.0</td>\n",
       "      <td>154.66</td>\n",
       "    </tr>\n",
       "    <tr>\n",
       "      <th>5625</th>\n",
       "      <td>55626</td>\n",
       "      <td>0</td>\n",
       "      <td>10.0</td>\n",
       "      <td>Computer</td>\n",
       "      <td>1</td>\n",
       "      <td>30.0</td>\n",
       "      <td>Credit Card</td>\n",
       "      <td>Male</td>\n",
       "      <td>3.0</td>\n",
       "      <td>2</td>\n",
       "      <td>Laptop &amp; Accessory</td>\n",
       "      <td>1</td>\n",
       "      <td>Married</td>\n",
       "      <td>6</td>\n",
       "      <td>0</td>\n",
       "      <td>18.0</td>\n",
       "      <td>1.0</td>\n",
       "      <td>2.0</td>\n",
       "      <td>4.0</td>\n",
       "      <td>150.71</td>\n",
       "    </tr>\n",
       "    <tr>\n",
       "      <th>5626</th>\n",
       "      <td>55627</td>\n",
       "      <td>0</td>\n",
       "      <td>13.0</td>\n",
       "      <td>Mobile Phone</td>\n",
       "      <td>1</td>\n",
       "      <td>13.0</td>\n",
       "      <td>Credit Card</td>\n",
       "      <td>Male</td>\n",
       "      <td>3.0</td>\n",
       "      <td>5</td>\n",
       "      <td>Fashion</td>\n",
       "      <td>5</td>\n",
       "      <td>Married</td>\n",
       "      <td>6</td>\n",
       "      <td>0</td>\n",
       "      <td>16.0</td>\n",
       "      <td>1.0</td>\n",
       "      <td>2.0</td>\n",
       "      <td>NaN</td>\n",
       "      <td>224.91</td>\n",
       "    </tr>\n",
       "    <tr>\n",
       "      <th>5627</th>\n",
       "      <td>55628</td>\n",
       "      <td>0</td>\n",
       "      <td>1.0</td>\n",
       "      <td>Mobile Phone</td>\n",
       "      <td>1</td>\n",
       "      <td>11.0</td>\n",
       "      <td>Debit Card</td>\n",
       "      <td>Male</td>\n",
       "      <td>3.0</td>\n",
       "      <td>2</td>\n",
       "      <td>Laptop &amp; Accessory</td>\n",
       "      <td>4</td>\n",
       "      <td>Married</td>\n",
       "      <td>3</td>\n",
       "      <td>1</td>\n",
       "      <td>21.0</td>\n",
       "      <td>1.0</td>\n",
       "      <td>2.0</td>\n",
       "      <td>4.0</td>\n",
       "      <td>186.42</td>\n",
       "    </tr>\n",
       "    <tr>\n",
       "      <th>5628</th>\n",
       "      <td>55629</td>\n",
       "      <td>0</td>\n",
       "      <td>23.0</td>\n",
       "      <td>Computer</td>\n",
       "      <td>3</td>\n",
       "      <td>9.0</td>\n",
       "      <td>Credit Card</td>\n",
       "      <td>Male</td>\n",
       "      <td>4.0</td>\n",
       "      <td>5</td>\n",
       "      <td>Laptop &amp; Accessory</td>\n",
       "      <td>4</td>\n",
       "      <td>Married</td>\n",
       "      <td>4</td>\n",
       "      <td>0</td>\n",
       "      <td>15.0</td>\n",
       "      <td>2.0</td>\n",
       "      <td>2.0</td>\n",
       "      <td>9.0</td>\n",
       "      <td>178.90</td>\n",
       "    </tr>\n",
       "    <tr>\n",
       "      <th>5629</th>\n",
       "      <td>55630</td>\n",
       "      <td>0</td>\n",
       "      <td>8.0</td>\n",
       "      <td>Mobile Phone</td>\n",
       "      <td>1</td>\n",
       "      <td>15.0</td>\n",
       "      <td>Credit Card</td>\n",
       "      <td>Male</td>\n",
       "      <td>3.0</td>\n",
       "      <td>2</td>\n",
       "      <td>Laptop &amp; Accessory</td>\n",
       "      <td>3</td>\n",
       "      <td>Married</td>\n",
       "      <td>4</td>\n",
       "      <td>0</td>\n",
       "      <td>13.0</td>\n",
       "      <td>2.0</td>\n",
       "      <td>2.0</td>\n",
       "      <td>3.0</td>\n",
       "      <td>169.04</td>\n",
       "    </tr>\n",
       "  </tbody>\n",
       "</table>\n",
       "</div>"
      ],
      "text/plain": [
       "      CustomerID  Churn  Tenure PreferredLoginDevice  CityTier  \\\n",
       "5620       55621      0     3.0         Mobile Phone         1   \n",
       "5621       55622      1    14.0         Mobile Phone         3   \n",
       "5622       55623      0    13.0         Mobile Phone         3   \n",
       "5623       55624      0     5.0             Computer         1   \n",
       "5624       55625      0     1.0         Mobile Phone         3   \n",
       "5625       55626      0    10.0             Computer         1   \n",
       "5626       55627      0    13.0         Mobile Phone         1   \n",
       "5627       55628      0     1.0         Mobile Phone         1   \n",
       "5628       55629      0    23.0             Computer         3   \n",
       "5629       55630      0     8.0         Mobile Phone         1   \n",
       "\n",
       "      WarehouseToHome PreferredPaymentMode  Gender  HourSpendOnApp  \\\n",
       "5620             35.0          Credit Card  Female             4.0   \n",
       "5621             35.0             E wallet    Male             3.0   \n",
       "5622             31.0             E wallet  Female             3.0   \n",
       "5623             12.0          Credit Card    Male             4.0   \n",
       "5624             12.0                  UPI  Female             2.0   \n",
       "5625             30.0          Credit Card    Male             3.0   \n",
       "5626             13.0          Credit Card    Male             3.0   \n",
       "5627             11.0           Debit Card    Male             3.0   \n",
       "5628              9.0          Credit Card    Male             4.0   \n",
       "5629             15.0          Credit Card    Male             3.0   \n",
       "\n",
       "      NumberOfDeviceRegistered    PreferedOrderCat  SatisfactionScore  \\\n",
       "5620                         5        Mobile Phone                  5   \n",
       "5621                         5             Fashion                  5   \n",
       "5622                         5             Grocery                  1   \n",
       "5623                         4  Laptop & Accessory                  5   \n",
       "5624                         5        Mobile Phone                  3   \n",
       "5625                         2  Laptop & Accessory                  1   \n",
       "5626                         5             Fashion                  5   \n",
       "5627                         2  Laptop & Accessory                  4   \n",
       "5628                         5  Laptop & Accessory                  4   \n",
       "5629                         2  Laptop & Accessory                  3   \n",
       "\n",
       "     MaritalStatus  NumberOfAddress  Complain  OrderAmountHikeFromlastYear  \\\n",
       "5620        Single                3         0                         15.0   \n",
       "5621       Married                6         1                         14.0   \n",
       "5622       Married                2         0                         12.0   \n",
       "5623        Single                2         0                         20.0   \n",
       "5624        Single                2         0                         19.0   \n",
       "5625       Married                6         0                         18.0   \n",
       "5626       Married                6         0                         16.0   \n",
       "5627       Married                3         1                         21.0   \n",
       "5628       Married                4         0                         15.0   \n",
       "5629       Married                4         0                         13.0   \n",
       "\n",
       "      CouponUsed  OrderCount  DaySinceLastOrder  CashbackAmount  \n",
       "5620         1.0         2.0                5.0          162.85  \n",
       "5621         3.0         NaN                1.0          233.54  \n",
       "5622         4.0         NaN                7.0          245.31  \n",
       "5623         2.0         2.0                NaN          224.36  \n",
       "5624         2.0         2.0                1.0          154.66  \n",
       "5625         1.0         2.0                4.0          150.71  \n",
       "5626         1.0         2.0                NaN          224.91  \n",
       "5627         1.0         2.0                4.0          186.42  \n",
       "5628         2.0         2.0                9.0          178.90  \n",
       "5629         2.0         2.0                3.0          169.04  "
      ]
     },
     "execution_count": 4,
     "metadata": {},
     "output_type": "execute_result"
    }
   ],
   "source": [
    "df.tail(10)"
   ]
  },
  {
   "cell_type": "code",
   "execution_count": 5,
   "id": "5b290c8a-a430-484d-9808-0e223c3c0c6d",
   "metadata": {},
   "outputs": [
    {
     "name": "stdout",
     "output_type": "stream",
     "text": [
      "<class 'pandas.core.frame.DataFrame'>\n",
      "RangeIndex: 5630 entries, 0 to 5629\n",
      "Data columns (total 20 columns):\n",
      " #   Column                       Non-Null Count  Dtype  \n",
      "---  ------                       --------------  -----  \n",
      " 0   CustomerID                   5630 non-null   int64  \n",
      " 1   Churn                        5630 non-null   int64  \n",
      " 2   Tenure                       5366 non-null   float64\n",
      " 3   PreferredLoginDevice         5630 non-null   object \n",
      " 4   CityTier                     5630 non-null   int64  \n",
      " 5   WarehouseToHome              5379 non-null   float64\n",
      " 6   PreferredPaymentMode         5630 non-null   object \n",
      " 7   Gender                       5630 non-null   object \n",
      " 8   HourSpendOnApp               5375 non-null   float64\n",
      " 9   NumberOfDeviceRegistered     5630 non-null   int64  \n",
      " 10  PreferedOrderCat             5630 non-null   object \n",
      " 11  SatisfactionScore            5630 non-null   int64  \n",
      " 12  MaritalStatus                5630 non-null   object \n",
      " 13  NumberOfAddress              5630 non-null   int64  \n",
      " 14  Complain                     5630 non-null   int64  \n",
      " 15  OrderAmountHikeFromlastYear  5365 non-null   float64\n",
      " 16  CouponUsed                   5374 non-null   float64\n",
      " 17  OrderCount                   5372 non-null   float64\n",
      " 18  DaySinceLastOrder            5323 non-null   float64\n",
      " 19  CashbackAmount               5630 non-null   float64\n",
      "dtypes: float64(8), int64(7), object(5)\n",
      "memory usage: 879.8+ KB\n"
     ]
    }
   ],
   "source": [
    "df.info()"
   ]
  },
  {
   "cell_type": "code",
   "execution_count": 6,
   "id": "b566452b-f341-4361-969c-520ace73f055",
   "metadata": {},
   "outputs": [
    {
     "data": {
      "text/html": [
       "<div>\n",
       "<style scoped>\n",
       "    .dataframe tbody tr th:only-of-type {\n",
       "        vertical-align: middle;\n",
       "    }\n",
       "\n",
       "    .dataframe tbody tr th {\n",
       "        vertical-align: top;\n",
       "    }\n",
       "\n",
       "    .dataframe thead th {\n",
       "        text-align: right;\n",
       "    }\n",
       "</style>\n",
       "<table border=\"1\" class=\"dataframe\">\n",
       "  <thead>\n",
       "    <tr style=\"text-align: right;\">\n",
       "      <th></th>\n",
       "      <th>CustomerID</th>\n",
       "      <th>Churn</th>\n",
       "      <th>Tenure</th>\n",
       "      <th>CityTier</th>\n",
       "      <th>WarehouseToHome</th>\n",
       "      <th>HourSpendOnApp</th>\n",
       "      <th>NumberOfDeviceRegistered</th>\n",
       "      <th>SatisfactionScore</th>\n",
       "      <th>NumberOfAddress</th>\n",
       "      <th>Complain</th>\n",
       "      <th>OrderAmountHikeFromlastYear</th>\n",
       "      <th>CouponUsed</th>\n",
       "      <th>OrderCount</th>\n",
       "      <th>DaySinceLastOrder</th>\n",
       "      <th>CashbackAmount</th>\n",
       "    </tr>\n",
       "  </thead>\n",
       "  <tbody>\n",
       "    <tr>\n",
       "      <th>count</th>\n",
       "      <td>5630.000000</td>\n",
       "      <td>5630.000000</td>\n",
       "      <td>5366.000000</td>\n",
       "      <td>5630.000000</td>\n",
       "      <td>5379.000000</td>\n",
       "      <td>5375.000000</td>\n",
       "      <td>5630.000000</td>\n",
       "      <td>5630.000000</td>\n",
       "      <td>5630.000000</td>\n",
       "      <td>5630.000000</td>\n",
       "      <td>5365.000000</td>\n",
       "      <td>5374.000000</td>\n",
       "      <td>5372.000000</td>\n",
       "      <td>5323.000000</td>\n",
       "      <td>5630.000000</td>\n",
       "    </tr>\n",
       "    <tr>\n",
       "      <th>mean</th>\n",
       "      <td>52815.500000</td>\n",
       "      <td>0.168384</td>\n",
       "      <td>10.189899</td>\n",
       "      <td>1.654707</td>\n",
       "      <td>15.639896</td>\n",
       "      <td>2.931535</td>\n",
       "      <td>3.688988</td>\n",
       "      <td>3.066785</td>\n",
       "      <td>4.214032</td>\n",
       "      <td>0.284902</td>\n",
       "      <td>15.707922</td>\n",
       "      <td>1.751023</td>\n",
       "      <td>3.008004</td>\n",
       "      <td>4.543491</td>\n",
       "      <td>177.223030</td>\n",
       "    </tr>\n",
       "    <tr>\n",
       "      <th>std</th>\n",
       "      <td>1625.385339</td>\n",
       "      <td>0.374240</td>\n",
       "      <td>8.557241</td>\n",
       "      <td>0.915389</td>\n",
       "      <td>8.531475</td>\n",
       "      <td>0.721926</td>\n",
       "      <td>1.023999</td>\n",
       "      <td>1.380194</td>\n",
       "      <td>2.583586</td>\n",
       "      <td>0.451408</td>\n",
       "      <td>3.675485</td>\n",
       "      <td>1.894621</td>\n",
       "      <td>2.939680</td>\n",
       "      <td>3.654433</td>\n",
       "      <td>49.207036</td>\n",
       "    </tr>\n",
       "    <tr>\n",
       "      <th>min</th>\n",
       "      <td>50001.000000</td>\n",
       "      <td>0.000000</td>\n",
       "      <td>0.000000</td>\n",
       "      <td>1.000000</td>\n",
       "      <td>5.000000</td>\n",
       "      <td>0.000000</td>\n",
       "      <td>1.000000</td>\n",
       "      <td>1.000000</td>\n",
       "      <td>1.000000</td>\n",
       "      <td>0.000000</td>\n",
       "      <td>11.000000</td>\n",
       "      <td>0.000000</td>\n",
       "      <td>1.000000</td>\n",
       "      <td>0.000000</td>\n",
       "      <td>0.000000</td>\n",
       "    </tr>\n",
       "    <tr>\n",
       "      <th>25%</th>\n",
       "      <td>51408.250000</td>\n",
       "      <td>0.000000</td>\n",
       "      <td>2.000000</td>\n",
       "      <td>1.000000</td>\n",
       "      <td>9.000000</td>\n",
       "      <td>2.000000</td>\n",
       "      <td>3.000000</td>\n",
       "      <td>2.000000</td>\n",
       "      <td>2.000000</td>\n",
       "      <td>0.000000</td>\n",
       "      <td>13.000000</td>\n",
       "      <td>1.000000</td>\n",
       "      <td>1.000000</td>\n",
       "      <td>2.000000</td>\n",
       "      <td>145.770000</td>\n",
       "    </tr>\n",
       "    <tr>\n",
       "      <th>50%</th>\n",
       "      <td>52815.500000</td>\n",
       "      <td>0.000000</td>\n",
       "      <td>9.000000</td>\n",
       "      <td>1.000000</td>\n",
       "      <td>14.000000</td>\n",
       "      <td>3.000000</td>\n",
       "      <td>4.000000</td>\n",
       "      <td>3.000000</td>\n",
       "      <td>3.000000</td>\n",
       "      <td>0.000000</td>\n",
       "      <td>15.000000</td>\n",
       "      <td>1.000000</td>\n",
       "      <td>2.000000</td>\n",
       "      <td>3.000000</td>\n",
       "      <td>163.280000</td>\n",
       "    </tr>\n",
       "    <tr>\n",
       "      <th>75%</th>\n",
       "      <td>54222.750000</td>\n",
       "      <td>0.000000</td>\n",
       "      <td>16.000000</td>\n",
       "      <td>3.000000</td>\n",
       "      <td>20.000000</td>\n",
       "      <td>3.000000</td>\n",
       "      <td>4.000000</td>\n",
       "      <td>4.000000</td>\n",
       "      <td>6.000000</td>\n",
       "      <td>1.000000</td>\n",
       "      <td>18.000000</td>\n",
       "      <td>2.000000</td>\n",
       "      <td>3.000000</td>\n",
       "      <td>7.000000</td>\n",
       "      <td>196.392500</td>\n",
       "    </tr>\n",
       "    <tr>\n",
       "      <th>max</th>\n",
       "      <td>55630.000000</td>\n",
       "      <td>1.000000</td>\n",
       "      <td>61.000000</td>\n",
       "      <td>3.000000</td>\n",
       "      <td>127.000000</td>\n",
       "      <td>5.000000</td>\n",
       "      <td>6.000000</td>\n",
       "      <td>5.000000</td>\n",
       "      <td>22.000000</td>\n",
       "      <td>1.000000</td>\n",
       "      <td>26.000000</td>\n",
       "      <td>16.000000</td>\n",
       "      <td>16.000000</td>\n",
       "      <td>46.000000</td>\n",
       "      <td>324.990000</td>\n",
       "    </tr>\n",
       "  </tbody>\n",
       "</table>\n",
       "</div>"
      ],
      "text/plain": [
       "         CustomerID        Churn       Tenure     CityTier  WarehouseToHome  \\\n",
       "count   5630.000000  5630.000000  5366.000000  5630.000000      5379.000000   \n",
       "mean   52815.500000     0.168384    10.189899     1.654707        15.639896   \n",
       "std     1625.385339     0.374240     8.557241     0.915389         8.531475   \n",
       "min    50001.000000     0.000000     0.000000     1.000000         5.000000   \n",
       "25%    51408.250000     0.000000     2.000000     1.000000         9.000000   \n",
       "50%    52815.500000     0.000000     9.000000     1.000000        14.000000   \n",
       "75%    54222.750000     0.000000    16.000000     3.000000        20.000000   \n",
       "max    55630.000000     1.000000    61.000000     3.000000       127.000000   \n",
       "\n",
       "       HourSpendOnApp  NumberOfDeviceRegistered  SatisfactionScore  \\\n",
       "count     5375.000000               5630.000000        5630.000000   \n",
       "mean         2.931535                  3.688988           3.066785   \n",
       "std          0.721926                  1.023999           1.380194   \n",
       "min          0.000000                  1.000000           1.000000   \n",
       "25%          2.000000                  3.000000           2.000000   \n",
       "50%          3.000000                  4.000000           3.000000   \n",
       "75%          3.000000                  4.000000           4.000000   \n",
       "max          5.000000                  6.000000           5.000000   \n",
       "\n",
       "       NumberOfAddress     Complain  OrderAmountHikeFromlastYear   CouponUsed  \\\n",
       "count      5630.000000  5630.000000                  5365.000000  5374.000000   \n",
       "mean          4.214032     0.284902                    15.707922     1.751023   \n",
       "std           2.583586     0.451408                     3.675485     1.894621   \n",
       "min           1.000000     0.000000                    11.000000     0.000000   \n",
       "25%           2.000000     0.000000                    13.000000     1.000000   \n",
       "50%           3.000000     0.000000                    15.000000     1.000000   \n",
       "75%           6.000000     1.000000                    18.000000     2.000000   \n",
       "max          22.000000     1.000000                    26.000000    16.000000   \n",
       "\n",
       "        OrderCount  DaySinceLastOrder  CashbackAmount  \n",
       "count  5372.000000        5323.000000     5630.000000  \n",
       "mean      3.008004           4.543491      177.223030  \n",
       "std       2.939680           3.654433       49.207036  \n",
       "min       1.000000           0.000000        0.000000  \n",
       "25%       1.000000           2.000000      145.770000  \n",
       "50%       2.000000           3.000000      163.280000  \n",
       "75%       3.000000           7.000000      196.392500  \n",
       "max      16.000000          46.000000      324.990000  "
      ]
     },
     "execution_count": 6,
     "metadata": {},
     "output_type": "execute_result"
    }
   ],
   "source": [
    "df.describe()"
   ]
  },
  {
   "cell_type": "markdown",
   "id": "ef27b3e3-1cf1-4722-a4d8-6dea68808ff8",
   "metadata": {},
   "source": [
    "handling missing data\n",
    "- The null values were replaced with the mean values of the respective columns"
   ]
  },
  {
   "cell_type": "code",
   "execution_count": 8,
   "id": "13afaff0-cd4e-44e5-853c-94342c490e03",
   "metadata": {},
   "outputs": [
    {
     "data": {
      "text/html": [
       "<div>\n",
       "<style scoped>\n",
       "    .dataframe tbody tr th:only-of-type {\n",
       "        vertical-align: middle;\n",
       "    }\n",
       "\n",
       "    .dataframe tbody tr th {\n",
       "        vertical-align: top;\n",
       "    }\n",
       "\n",
       "    .dataframe thead th {\n",
       "        text-align: right;\n",
       "    }\n",
       "</style>\n",
       "<table border=\"1\" class=\"dataframe\">\n",
       "  <thead>\n",
       "    <tr style=\"text-align: right;\">\n",
       "      <th></th>\n",
       "      <th>CustomerID</th>\n",
       "      <th>Churn</th>\n",
       "      <th>Tenure</th>\n",
       "      <th>PreferredLoginDevice</th>\n",
       "      <th>CityTier</th>\n",
       "      <th>WarehouseToHome</th>\n",
       "      <th>PreferredPaymentMode</th>\n",
       "      <th>Gender</th>\n",
       "      <th>HourSpendOnApp</th>\n",
       "      <th>NumberOfDeviceRegistered</th>\n",
       "      <th>PreferedOrderCat</th>\n",
       "      <th>SatisfactionScore</th>\n",
       "      <th>MaritalStatus</th>\n",
       "      <th>NumberOfAddress</th>\n",
       "      <th>Complain</th>\n",
       "      <th>OrderAmountHikeFromlastYear</th>\n",
       "      <th>CouponUsed</th>\n",
       "      <th>OrderCount</th>\n",
       "      <th>DaySinceLastOrder</th>\n",
       "      <th>CashbackAmount</th>\n",
       "    </tr>\n",
       "  </thead>\n",
       "  <tbody>\n",
       "    <tr>\n",
       "      <th>10</th>\n",
       "      <td>50011</td>\n",
       "      <td>1</td>\n",
       "      <td>4.0</td>\n",
       "      <td>Mobile Phone</td>\n",
       "      <td>1</td>\n",
       "      <td>18.0</td>\n",
       "      <td>Cash on Delivery</td>\n",
       "      <td>Female</td>\n",
       "      <td>2.0</td>\n",
       "      <td>3</td>\n",
       "      <td>Others</td>\n",
       "      <td>3</td>\n",
       "      <td>Divorced</td>\n",
       "      <td>2</td>\n",
       "      <td>0</td>\n",
       "      <td>NaN</td>\n",
       "      <td>9.0</td>\n",
       "      <td>15.0</td>\n",
       "      <td>8.0</td>\n",
       "      <td>295.45</td>\n",
       "    </tr>\n",
       "    <tr>\n",
       "      <th>40</th>\n",
       "      <td>50041</td>\n",
       "      <td>0</td>\n",
       "      <td>23.0</td>\n",
       "      <td>Mobile Phone</td>\n",
       "      <td>1</td>\n",
       "      <td>17.0</td>\n",
       "      <td>Debit Card</td>\n",
       "      <td>Female</td>\n",
       "      <td>2.0</td>\n",
       "      <td>3</td>\n",
       "      <td>Others</td>\n",
       "      <td>4</td>\n",
       "      <td>Single</td>\n",
       "      <td>4</td>\n",
       "      <td>0</td>\n",
       "      <td>NaN</td>\n",
       "      <td>2.0</td>\n",
       "      <td>4.0</td>\n",
       "      <td>4.0</td>\n",
       "      <td>299.26</td>\n",
       "    </tr>\n",
       "    <tr>\n",
       "      <th>65</th>\n",
       "      <td>50066</td>\n",
       "      <td>0</td>\n",
       "      <td>25.0</td>\n",
       "      <td>Mobile Phone</td>\n",
       "      <td>1</td>\n",
       "      <td>6.0</td>\n",
       "      <td>Debit Card</td>\n",
       "      <td>Male</td>\n",
       "      <td>3.0</td>\n",
       "      <td>4</td>\n",
       "      <td>Others</td>\n",
       "      <td>3</td>\n",
       "      <td>Divorced</td>\n",
       "      <td>1</td>\n",
       "      <td>0</td>\n",
       "      <td>NaN</td>\n",
       "      <td>1.0</td>\n",
       "      <td>11.0</td>\n",
       "      <td>9.0</td>\n",
       "      <td>299.99</td>\n",
       "    </tr>\n",
       "    <tr>\n",
       "      <th>106</th>\n",
       "      <td>50107</td>\n",
       "      <td>0</td>\n",
       "      <td>15.0</td>\n",
       "      <td>Mobile Phone</td>\n",
       "      <td>1</td>\n",
       "      <td>10.0</td>\n",
       "      <td>Cash on Delivery</td>\n",
       "      <td>Male</td>\n",
       "      <td>2.0</td>\n",
       "      <td>3</td>\n",
       "      <td>Others</td>\n",
       "      <td>2</td>\n",
       "      <td>Divorced</td>\n",
       "      <td>2</td>\n",
       "      <td>0</td>\n",
       "      <td>NaN</td>\n",
       "      <td>0.0</td>\n",
       "      <td>11.0</td>\n",
       "      <td>15.0</td>\n",
       "      <td>292.32</td>\n",
       "    </tr>\n",
       "    <tr>\n",
       "      <th>108</th>\n",
       "      <td>50109</td>\n",
       "      <td>0</td>\n",
       "      <td>23.0</td>\n",
       "      <td>Mobile Phone</td>\n",
       "      <td>3</td>\n",
       "      <td>6.0</td>\n",
       "      <td>Credit Card</td>\n",
       "      <td>Female</td>\n",
       "      <td>3.0</td>\n",
       "      <td>3</td>\n",
       "      <td>Others</td>\n",
       "      <td>2</td>\n",
       "      <td>Married</td>\n",
       "      <td>4</td>\n",
       "      <td>0</td>\n",
       "      <td>NaN</td>\n",
       "      <td>1.0</td>\n",
       "      <td>1.0</td>\n",
       "      <td>6.0</td>\n",
       "      <td>295.17</td>\n",
       "    </tr>\n",
       "    <tr>\n",
       "      <th>...</th>\n",
       "      <td>...</td>\n",
       "      <td>...</td>\n",
       "      <td>...</td>\n",
       "      <td>...</td>\n",
       "      <td>...</td>\n",
       "      <td>...</td>\n",
       "      <td>...</td>\n",
       "      <td>...</td>\n",
       "      <td>...</td>\n",
       "      <td>...</td>\n",
       "      <td>...</td>\n",
       "      <td>...</td>\n",
       "      <td>...</td>\n",
       "      <td>...</td>\n",
       "      <td>...</td>\n",
       "      <td>...</td>\n",
       "      <td>...</td>\n",
       "      <td>...</td>\n",
       "      <td>...</td>\n",
       "      <td>...</td>\n",
       "    </tr>\n",
       "    <tr>\n",
       "      <th>5534</th>\n",
       "      <td>55535</td>\n",
       "      <td>0</td>\n",
       "      <td>61.0</td>\n",
       "      <td>Mobile Phone</td>\n",
       "      <td>3</td>\n",
       "      <td>28.0</td>\n",
       "      <td>Debit Card</td>\n",
       "      <td>Female</td>\n",
       "      <td>4.0</td>\n",
       "      <td>4</td>\n",
       "      <td>Grocery</td>\n",
       "      <td>1</td>\n",
       "      <td>Married</td>\n",
       "      <td>6</td>\n",
       "      <td>1</td>\n",
       "      <td>NaN</td>\n",
       "      <td>1.0</td>\n",
       "      <td>2.0</td>\n",
       "      <td>1.0</td>\n",
       "      <td>303.75</td>\n",
       "    </tr>\n",
       "    <tr>\n",
       "      <th>5537</th>\n",
       "      <td>55538</td>\n",
       "      <td>0</td>\n",
       "      <td>23.0</td>\n",
       "      <td>Computer</td>\n",
       "      <td>1</td>\n",
       "      <td>9.0</td>\n",
       "      <td>Debit Card</td>\n",
       "      <td>Male</td>\n",
       "      <td>3.0</td>\n",
       "      <td>4</td>\n",
       "      <td>Others</td>\n",
       "      <td>1</td>\n",
       "      <td>Married</td>\n",
       "      <td>5</td>\n",
       "      <td>0</td>\n",
       "      <td>NaN</td>\n",
       "      <td>5.0</td>\n",
       "      <td>5.0</td>\n",
       "      <td>4.0</td>\n",
       "      <td>316.61</td>\n",
       "    </tr>\n",
       "    <tr>\n",
       "      <th>5561</th>\n",
       "      <td>55562</td>\n",
       "      <td>0</td>\n",
       "      <td>29.0</td>\n",
       "      <td>Mobile Phone</td>\n",
       "      <td>2</td>\n",
       "      <td>33.0</td>\n",
       "      <td>UPI</td>\n",
       "      <td>Male</td>\n",
       "      <td>4.0</td>\n",
       "      <td>2</td>\n",
       "      <td>Others</td>\n",
       "      <td>4</td>\n",
       "      <td>Married</td>\n",
       "      <td>6</td>\n",
       "      <td>1</td>\n",
       "      <td>NaN</td>\n",
       "      <td>2.0</td>\n",
       "      <td>2.0</td>\n",
       "      <td>5.0</td>\n",
       "      <td>321.36</td>\n",
       "    </tr>\n",
       "    <tr>\n",
       "      <th>5597</th>\n",
       "      <td>55598</td>\n",
       "      <td>0</td>\n",
       "      <td>13.0</td>\n",
       "      <td>Computer</td>\n",
       "      <td>1</td>\n",
       "      <td>16.0</td>\n",
       "      <td>Debit Card</td>\n",
       "      <td>Male</td>\n",
       "      <td>3.0</td>\n",
       "      <td>4</td>\n",
       "      <td>Others</td>\n",
       "      <td>1</td>\n",
       "      <td>Single</td>\n",
       "      <td>4</td>\n",
       "      <td>0</td>\n",
       "      <td>NaN</td>\n",
       "      <td>2.0</td>\n",
       "      <td>2.0</td>\n",
       "      <td>4.0</td>\n",
       "      <td>319.31</td>\n",
       "    </tr>\n",
       "    <tr>\n",
       "      <th>5603</th>\n",
       "      <td>55604</td>\n",
       "      <td>0</td>\n",
       "      <td>16.0</td>\n",
       "      <td>Mobile Phone</td>\n",
       "      <td>1</td>\n",
       "      <td>9.0</td>\n",
       "      <td>Debit Card</td>\n",
       "      <td>Male</td>\n",
       "      <td>3.0</td>\n",
       "      <td>4</td>\n",
       "      <td>Others</td>\n",
       "      <td>3</td>\n",
       "      <td>Married</td>\n",
       "      <td>7</td>\n",
       "      <td>0</td>\n",
       "      <td>NaN</td>\n",
       "      <td>1.0</td>\n",
       "      <td>5.0</td>\n",
       "      <td>15.0</td>\n",
       "      <td>313.80</td>\n",
       "    </tr>\n",
       "  </tbody>\n",
       "</table>\n",
       "<p>265 rows × 20 columns</p>\n",
       "</div>"
      ],
      "text/plain": [
       "      CustomerID  Churn  Tenure PreferredLoginDevice  CityTier  \\\n",
       "10         50011      1     4.0         Mobile Phone         1   \n",
       "40         50041      0    23.0         Mobile Phone         1   \n",
       "65         50066      0    25.0         Mobile Phone         1   \n",
       "106        50107      0    15.0         Mobile Phone         1   \n",
       "108        50109      0    23.0         Mobile Phone         3   \n",
       "...          ...    ...     ...                  ...       ...   \n",
       "5534       55535      0    61.0         Mobile Phone         3   \n",
       "5537       55538      0    23.0             Computer         1   \n",
       "5561       55562      0    29.0         Mobile Phone         2   \n",
       "5597       55598      0    13.0             Computer         1   \n",
       "5603       55604      0    16.0         Mobile Phone         1   \n",
       "\n",
       "      WarehouseToHome PreferredPaymentMode  Gender  HourSpendOnApp  \\\n",
       "10               18.0     Cash on Delivery  Female             2.0   \n",
       "40               17.0           Debit Card  Female             2.0   \n",
       "65                6.0           Debit Card    Male             3.0   \n",
       "106              10.0     Cash on Delivery    Male             2.0   \n",
       "108               6.0          Credit Card  Female             3.0   \n",
       "...               ...                  ...     ...             ...   \n",
       "5534             28.0           Debit Card  Female             4.0   \n",
       "5537              9.0           Debit Card    Male             3.0   \n",
       "5561             33.0                  UPI    Male             4.0   \n",
       "5597             16.0           Debit Card    Male             3.0   \n",
       "5603              9.0           Debit Card    Male             3.0   \n",
       "\n",
       "      NumberOfDeviceRegistered PreferedOrderCat  SatisfactionScore  \\\n",
       "10                           3           Others                  3   \n",
       "40                           3           Others                  4   \n",
       "65                           4           Others                  3   \n",
       "106                          3           Others                  2   \n",
       "108                          3           Others                  2   \n",
       "...                        ...              ...                ...   \n",
       "5534                         4          Grocery                  1   \n",
       "5537                         4           Others                  1   \n",
       "5561                         2           Others                  4   \n",
       "5597                         4           Others                  1   \n",
       "5603                         4           Others                  3   \n",
       "\n",
       "     MaritalStatus  NumberOfAddress  Complain  OrderAmountHikeFromlastYear  \\\n",
       "10        Divorced                2         0                          NaN   \n",
       "40          Single                4         0                          NaN   \n",
       "65        Divorced                1         0                          NaN   \n",
       "106       Divorced                2         0                          NaN   \n",
       "108        Married                4         0                          NaN   \n",
       "...            ...              ...       ...                          ...   \n",
       "5534       Married                6         1                          NaN   \n",
       "5537       Married                5         0                          NaN   \n",
       "5561       Married                6         1                          NaN   \n",
       "5597        Single                4         0                          NaN   \n",
       "5603       Married                7         0                          NaN   \n",
       "\n",
       "      CouponUsed  OrderCount  DaySinceLastOrder  CashbackAmount  \n",
       "10           9.0        15.0                8.0          295.45  \n",
       "40           2.0         4.0                4.0          299.26  \n",
       "65           1.0        11.0                9.0          299.99  \n",
       "106          0.0        11.0               15.0          292.32  \n",
       "108          1.0         1.0                6.0          295.17  \n",
       "...          ...         ...                ...             ...  \n",
       "5534         1.0         2.0                1.0          303.75  \n",
       "5537         5.0         5.0                4.0          316.61  \n",
       "5561         2.0         2.0                5.0          321.36  \n",
       "5597         2.0         2.0                4.0          319.31  \n",
       "5603         1.0         5.0               15.0          313.80  \n",
       "\n",
       "[265 rows x 20 columns]"
      ]
     },
     "execution_count": 8,
     "metadata": {},
     "output_type": "execute_result"
    }
   ],
   "source": [
    " df.loc[df['OrderAmountHikeFromlastYear'].isnull()]"
   ]
  },
  {
   "cell_type": "code",
   "execution_count": 9,
   "id": "9e01490d-0991-4dc8-b41c-4fe19a3d4d48",
   "metadata": {},
   "outputs": [
    {
     "data": {
      "text/plain": [
       "CustomerID                       0\n",
       "Churn                            0\n",
       "Tenure                         264\n",
       "PreferredLoginDevice             0\n",
       "CityTier                         0\n",
       "WarehouseToHome                251\n",
       "PreferredPaymentMode             0\n",
       "Gender                           0\n",
       "HourSpendOnApp                 255\n",
       "NumberOfDeviceRegistered         0\n",
       "PreferedOrderCat                 0\n",
       "SatisfactionScore                0\n",
       "MaritalStatus                    0\n",
       "NumberOfAddress                  0\n",
       "Complain                         0\n",
       "OrderAmountHikeFromlastYear    265\n",
       "CouponUsed                     256\n",
       "OrderCount                     258\n",
       "DaySinceLastOrder              307\n",
       "CashbackAmount                   0\n",
       "dtype: int64"
      ]
     },
     "execution_count": 9,
     "metadata": {},
     "output_type": "execute_result"
    }
   ],
   "source": [
    "df.isnull().sum()"
   ]
  },
  {
   "cell_type": "code",
   "execution_count": 10,
   "id": "7c5b74b9-e2e7-4fb7-920c-6e2102e8874c",
   "metadata": {},
   "outputs": [],
   "source": [
    "df['Tenure'] = df.Tenure.fillna(df['Tenure'].mean())"
   ]
  },
  {
   "cell_type": "code",
   "execution_count": 11,
   "id": "b5390d33-731c-4a19-9f25-3f0127287536",
   "metadata": {},
   "outputs": [],
   "source": [
    "df['WarehouseToHome'] = df.Tenure.fillna(df['WarehouseToHome'].mean())"
   ]
  },
  {
   "cell_type": "code",
   "execution_count": 12,
   "id": "10c27d96-e4bb-4728-a866-401cf6e45bac",
   "metadata": {},
   "outputs": [],
   "source": [
    "df['HourSpendOnApp'] = df.Tenure.fillna(df['HourSpendOnApp'].mean())"
   ]
  },
  {
   "cell_type": "code",
   "execution_count": 13,
   "id": "040de53b-d8e3-49bd-93d0-e116c5236d8c",
   "metadata": {},
   "outputs": [],
   "source": [
    "df['OrderAmountHikeFromlastYear'] = df.Tenure.fillna(df['OrderAmountHikeFromlastYear'].mean())"
   ]
  },
  {
   "cell_type": "code",
   "execution_count": 14,
   "id": "2fb8ae87-d92a-4822-b607-525ea1d7a3b5",
   "metadata": {},
   "outputs": [],
   "source": [
    "df['CouponUsed'] = df.Tenure.fillna(df['CouponUsed'].mean())"
   ]
  },
  {
   "cell_type": "code",
   "execution_count": 16,
   "id": "8a682c17-fa41-4407-961d-f961ab5916d1",
   "metadata": {},
   "outputs": [],
   "source": [
    "df['OrderCount'] = df.Tenure.fillna(df['OrderCount'].mean())"
   ]
  },
  {
   "cell_type": "code",
   "execution_count": 17,
   "id": "be259dbd-6ec4-45f9-a7e9-86b70356ef41",
   "metadata": {},
   "outputs": [],
   "source": [
    "df['DaySinceLastOrder'] = df.Tenure.fillna(df['DaySinceLastOrder'].mean())"
   ]
  },
  {
   "cell_type": "code",
   "execution_count": 18,
   "id": "0c0c8577-966a-4760-8cb3-6419920294e1",
   "metadata": {},
   "outputs": [
    {
     "data": {
      "text/html": [
       "<div>\n",
       "<style scoped>\n",
       "    .dataframe tbody tr th:only-of-type {\n",
       "        vertical-align: middle;\n",
       "    }\n",
       "\n",
       "    .dataframe tbody tr th {\n",
       "        vertical-align: top;\n",
       "    }\n",
       "\n",
       "    .dataframe thead th {\n",
       "        text-align: right;\n",
       "    }\n",
       "</style>\n",
       "<table border=\"1\" class=\"dataframe\">\n",
       "  <thead>\n",
       "    <tr style=\"text-align: right;\">\n",
       "      <th></th>\n",
       "      <th>CustomerID</th>\n",
       "      <th>Churn</th>\n",
       "      <th>Tenure</th>\n",
       "      <th>PreferredLoginDevice</th>\n",
       "      <th>CityTier</th>\n",
       "      <th>WarehouseToHome</th>\n",
       "      <th>PreferredPaymentMode</th>\n",
       "      <th>Gender</th>\n",
       "      <th>HourSpendOnApp</th>\n",
       "      <th>NumberOfDeviceRegistered</th>\n",
       "      <th>PreferedOrderCat</th>\n",
       "      <th>SatisfactionScore</th>\n",
       "      <th>MaritalStatus</th>\n",
       "      <th>NumberOfAddress</th>\n",
       "      <th>Complain</th>\n",
       "      <th>OrderAmountHikeFromlastYear</th>\n",
       "      <th>CouponUsed</th>\n",
       "      <th>OrderCount</th>\n",
       "      <th>DaySinceLastOrder</th>\n",
       "      <th>CashbackAmount</th>\n",
       "    </tr>\n",
       "  </thead>\n",
       "  <tbody>\n",
       "    <tr>\n",
       "      <th>5534</th>\n",
       "      <td>55535</td>\n",
       "      <td>0</td>\n",
       "      <td>61.0</td>\n",
       "      <td>Mobile Phone</td>\n",
       "      <td>3</td>\n",
       "      <td>61.0</td>\n",
       "      <td>Debit Card</td>\n",
       "      <td>Female</td>\n",
       "      <td>61.0</td>\n",
       "      <td>4</td>\n",
       "      <td>Grocery</td>\n",
       "      <td>1</td>\n",
       "      <td>Married</td>\n",
       "      <td>6</td>\n",
       "      <td>1</td>\n",
       "      <td>61.0</td>\n",
       "      <td>61.0</td>\n",
       "      <td>61.0</td>\n",
       "      <td>61.0</td>\n",
       "      <td>303.75</td>\n",
       "    </tr>\n",
       "  </tbody>\n",
       "</table>\n",
       "</div>"
      ],
      "text/plain": [
       "      CustomerID  Churn  Tenure PreferredLoginDevice  CityTier  \\\n",
       "5534       55535      0    61.0         Mobile Phone         3   \n",
       "\n",
       "      WarehouseToHome PreferredPaymentMode  Gender  HourSpendOnApp  \\\n",
       "5534             61.0           Debit Card  Female            61.0   \n",
       "\n",
       "      NumberOfDeviceRegistered PreferedOrderCat  SatisfactionScore  \\\n",
       "5534                         4          Grocery                  1   \n",
       "\n",
       "     MaritalStatus  NumberOfAddress  Complain  OrderAmountHikeFromlastYear  \\\n",
       "5534       Married                6         1                         61.0   \n",
       "\n",
       "      CouponUsed  OrderCount  DaySinceLastOrder  CashbackAmount  \n",
       "5534        61.0        61.0               61.0          303.75  "
      ]
     },
     "execution_count": 18,
     "metadata": {},
     "output_type": "execute_result"
    }
   ],
   "source": [
    "df[df['WarehouseToHome'] == df['WarehouseToHome'].max()]"
   ]
  },
  {
   "cell_type": "code",
   "execution_count": 19,
   "id": "5b40fc69-9106-406b-9f03-1344b9652b7a",
   "metadata": {},
   "outputs": [
    {
     "data": {
      "text/html": [
       "<div>\n",
       "<style scoped>\n",
       "    .dataframe tbody tr th:only-of-type {\n",
       "        vertical-align: middle;\n",
       "    }\n",
       "\n",
       "    .dataframe tbody tr th {\n",
       "        vertical-align: top;\n",
       "    }\n",
       "\n",
       "    .dataframe thead th {\n",
       "        text-align: right;\n",
       "    }\n",
       "</style>\n",
       "<table border=\"1\" class=\"dataframe\">\n",
       "  <thead>\n",
       "    <tr style=\"text-align: right;\">\n",
       "      <th></th>\n",
       "      <th>CustomerID</th>\n",
       "      <th>Churn</th>\n",
       "      <th>Tenure</th>\n",
       "      <th>PreferredLoginDevice</th>\n",
       "      <th>CityTier</th>\n",
       "      <th>WarehouseToHome</th>\n",
       "      <th>PreferredPaymentMode</th>\n",
       "      <th>Gender</th>\n",
       "      <th>HourSpendOnApp</th>\n",
       "      <th>NumberOfDeviceRegistered</th>\n",
       "      <th>PreferedOrderCat</th>\n",
       "      <th>SatisfactionScore</th>\n",
       "      <th>MaritalStatus</th>\n",
       "      <th>NumberOfAddress</th>\n",
       "      <th>Complain</th>\n",
       "      <th>OrderAmountHikeFromlastYear</th>\n",
       "      <th>CouponUsed</th>\n",
       "      <th>OrderCount</th>\n",
       "      <th>DaySinceLastOrder</th>\n",
       "      <th>CashbackAmount</th>\n",
       "    </tr>\n",
       "  </thead>\n",
       "  <tbody>\n",
       "    <tr>\n",
       "      <th>5534</th>\n",
       "      <td>55535</td>\n",
       "      <td>0</td>\n",
       "      <td>61.0</td>\n",
       "      <td>Mobile Phone</td>\n",
       "      <td>3</td>\n",
       "      <td>61.0</td>\n",
       "      <td>Debit Card</td>\n",
       "      <td>Female</td>\n",
       "      <td>61.0</td>\n",
       "      <td>4</td>\n",
       "      <td>Grocery</td>\n",
       "      <td>1</td>\n",
       "      <td>Married</td>\n",
       "      <td>6</td>\n",
       "      <td>1</td>\n",
       "      <td>61.0</td>\n",
       "      <td>61.0</td>\n",
       "      <td>61.0</td>\n",
       "      <td>61.0</td>\n",
       "      <td>303.75</td>\n",
       "    </tr>\n",
       "  </tbody>\n",
       "</table>\n",
       "</div>"
      ],
      "text/plain": [
       "      CustomerID  Churn  Tenure PreferredLoginDevice  CityTier  \\\n",
       "5534       55535      0    61.0         Mobile Phone         3   \n",
       "\n",
       "      WarehouseToHome PreferredPaymentMode  Gender  HourSpendOnApp  \\\n",
       "5534             61.0           Debit Card  Female            61.0   \n",
       "\n",
       "      NumberOfDeviceRegistered PreferedOrderCat  SatisfactionScore  \\\n",
       "5534                         4          Grocery                  1   \n",
       "\n",
       "     MaritalStatus  NumberOfAddress  Complain  OrderAmountHikeFromlastYear  \\\n",
       "5534       Married                6         1                         61.0   \n",
       "\n",
       "      CouponUsed  OrderCount  DaySinceLastOrder  CashbackAmount  \n",
       "5534        61.0        61.0               61.0          303.75  "
      ]
     },
     "execution_count": 19,
     "metadata": {},
     "output_type": "execute_result"
    }
   ],
   "source": [
    "df[df['CouponUsed'] == df['CouponUsed'].max()]"
   ]
  },
  {
   "cell_type": "code",
   "execution_count": 20,
   "id": "a779bc4c-40c7-47f9-8386-f691dad968dc",
   "metadata": {},
   "outputs": [
    {
     "data": {
      "text/html": [
       "<div>\n",
       "<style scoped>\n",
       "    .dataframe tbody tr th:only-of-type {\n",
       "        vertical-align: middle;\n",
       "    }\n",
       "\n",
       "    .dataframe tbody tr th {\n",
       "        vertical-align: top;\n",
       "    }\n",
       "\n",
       "    .dataframe thead th {\n",
       "        text-align: right;\n",
       "    }\n",
       "</style>\n",
       "<table border=\"1\" class=\"dataframe\">\n",
       "  <thead>\n",
       "    <tr style=\"text-align: right;\">\n",
       "      <th></th>\n",
       "      <th>CustomerID</th>\n",
       "      <th>Churn</th>\n",
       "      <th>Tenure</th>\n",
       "      <th>PreferredLoginDevice</th>\n",
       "      <th>CityTier</th>\n",
       "      <th>WarehouseToHome</th>\n",
       "      <th>PreferredPaymentMode</th>\n",
       "      <th>Gender</th>\n",
       "      <th>HourSpendOnApp</th>\n",
       "      <th>NumberOfDeviceRegistered</th>\n",
       "      <th>PreferedOrderCat</th>\n",
       "      <th>SatisfactionScore</th>\n",
       "      <th>MaritalStatus</th>\n",
       "      <th>NumberOfAddress</th>\n",
       "      <th>Complain</th>\n",
       "      <th>OrderAmountHikeFromlastYear</th>\n",
       "      <th>CouponUsed</th>\n",
       "      <th>OrderCount</th>\n",
       "      <th>DaySinceLastOrder</th>\n",
       "      <th>CashbackAmount</th>\n",
       "    </tr>\n",
       "  </thead>\n",
       "  <tbody>\n",
       "    <tr>\n",
       "      <th>5534</th>\n",
       "      <td>55535</td>\n",
       "      <td>0</td>\n",
       "      <td>61.0</td>\n",
       "      <td>Mobile Phone</td>\n",
       "      <td>3</td>\n",
       "      <td>61.0</td>\n",
       "      <td>Debit Card</td>\n",
       "      <td>Female</td>\n",
       "      <td>61.0</td>\n",
       "      <td>4</td>\n",
       "      <td>Grocery</td>\n",
       "      <td>1</td>\n",
       "      <td>Married</td>\n",
       "      <td>6</td>\n",
       "      <td>1</td>\n",
       "      <td>61.0</td>\n",
       "      <td>61.0</td>\n",
       "      <td>61.0</td>\n",
       "      <td>61.0</td>\n",
       "      <td>303.75</td>\n",
       "    </tr>\n",
       "  </tbody>\n",
       "</table>\n",
       "</div>"
      ],
      "text/plain": [
       "      CustomerID  Churn  Tenure PreferredLoginDevice  CityTier  \\\n",
       "5534       55535      0    61.0         Mobile Phone         3   \n",
       "\n",
       "      WarehouseToHome PreferredPaymentMode  Gender  HourSpendOnApp  \\\n",
       "5534             61.0           Debit Card  Female            61.0   \n",
       "\n",
       "      NumberOfDeviceRegistered PreferedOrderCat  SatisfactionScore  \\\n",
       "5534                         4          Grocery                  1   \n",
       "\n",
       "     MaritalStatus  NumberOfAddress  Complain  OrderAmountHikeFromlastYear  \\\n",
       "5534       Married                6         1                         61.0   \n",
       "\n",
       "      CouponUsed  OrderCount  DaySinceLastOrder  CashbackAmount  \n",
       "5534        61.0        61.0               61.0          303.75  "
      ]
     },
     "execution_count": 20,
     "metadata": {},
     "output_type": "execute_result"
    }
   ],
   "source": [
    "df[df['Tenure'] == df['Tenure'].max()]"
   ]
  },
  {
   "cell_type": "code",
   "execution_count": 21,
   "id": "c13b05d7-efe0-44c0-9080-d40790e4fa3d",
   "metadata": {},
   "outputs": [],
   "source": [
    "mean_tenure = df['Tenure'].mean()\n",
    "df['Tenure'] = df['Tenure'].replace(50.0, 10)"
   ]
  },
  {
   "cell_type": "code",
   "execution_count": 22,
   "id": "7c7ebdc4-30b7-4773-88b0-115417e195cb",
   "metadata": {},
   "outputs": [
    {
     "data": {
      "text/plain": [
       "10.182794570643795"
      ]
     },
     "execution_count": 22,
     "metadata": {},
     "output_type": "execute_result"
    }
   ],
   "source": [
    " df['Tenure'].mean()\n",
    "\n"
   ]
  },
  {
   "cell_type": "code",
   "execution_count": 23,
   "id": "c65903b9-6cf7-4ecb-aa54-9bb144607ad3",
   "metadata": {},
   "outputs": [
    {
     "data": {
      "text/html": [
       "<div>\n",
       "<style scoped>\n",
       "    .dataframe tbody tr th:only-of-type {\n",
       "        vertical-align: middle;\n",
       "    }\n",
       "\n",
       "    .dataframe tbody tr th {\n",
       "        vertical-align: top;\n",
       "    }\n",
       "\n",
       "    .dataframe thead th {\n",
       "        text-align: right;\n",
       "    }\n",
       "</style>\n",
       "<table border=\"1\" class=\"dataframe\">\n",
       "  <thead>\n",
       "    <tr style=\"text-align: right;\">\n",
       "      <th></th>\n",
       "      <th>CustomerID</th>\n",
       "      <th>Churn</th>\n",
       "      <th>Tenure</th>\n",
       "      <th>PreferredLoginDevice</th>\n",
       "      <th>CityTier</th>\n",
       "      <th>WarehouseToHome</th>\n",
       "      <th>PreferredPaymentMode</th>\n",
       "      <th>Gender</th>\n",
       "      <th>HourSpendOnApp</th>\n",
       "      <th>NumberOfDeviceRegistered</th>\n",
       "      <th>PreferedOrderCat</th>\n",
       "      <th>SatisfactionScore</th>\n",
       "      <th>MaritalStatus</th>\n",
       "      <th>NumberOfAddress</th>\n",
       "      <th>Complain</th>\n",
       "      <th>OrderAmountHikeFromlastYear</th>\n",
       "      <th>CouponUsed</th>\n",
       "      <th>OrderCount</th>\n",
       "      <th>DaySinceLastOrder</th>\n",
       "      <th>CashbackAmount</th>\n",
       "    </tr>\n",
       "  </thead>\n",
       "  <tbody>\n",
       "  </tbody>\n",
       "</table>\n",
       "</div>"
      ],
      "text/plain": [
       "Empty DataFrame\n",
       "Columns: [CustomerID, Churn, Tenure, PreferredLoginDevice, CityTier, WarehouseToHome, PreferredPaymentMode, Gender, HourSpendOnApp, NumberOfDeviceRegistered, PreferedOrderCat, SatisfactionScore, MaritalStatus, NumberOfAddress, Complain, OrderAmountHikeFromlastYear, CouponUsed, OrderCount, DaySinceLastOrder, CashbackAmount]\n",
       "Index: []"
      ]
     },
     "execution_count": 23,
     "metadata": {},
     "output_type": "execute_result"
    }
   ],
   "source": [
    " df.loc[df['OrderCount'].isnull()]"
   ]
  },
  {
   "cell_type": "code",
   "execution_count": 25,
   "id": "04bf224d-8e32-4839-8a00-c8c0c35ad35c",
   "metadata": {},
   "outputs": [
    {
     "data": {
      "text/html": [
       "<div>\n",
       "<style scoped>\n",
       "    .dataframe tbody tr th:only-of-type {\n",
       "        vertical-align: middle;\n",
       "    }\n",
       "\n",
       "    .dataframe tbody tr th {\n",
       "        vertical-align: top;\n",
       "    }\n",
       "\n",
       "    .dataframe thead th {\n",
       "        text-align: right;\n",
       "    }\n",
       "</style>\n",
       "<table border=\"1\" class=\"dataframe\">\n",
       "  <thead>\n",
       "    <tr style=\"text-align: right;\">\n",
       "      <th></th>\n",
       "      <th>CustomerID</th>\n",
       "      <th>Churn</th>\n",
       "      <th>Tenure</th>\n",
       "      <th>PreferredLoginDevice</th>\n",
       "      <th>CityTier</th>\n",
       "      <th>WarehouseToHome</th>\n",
       "      <th>PreferredPaymentMode</th>\n",
       "      <th>Gender</th>\n",
       "      <th>HourSpendOnApp</th>\n",
       "      <th>NumberOfDeviceRegistered</th>\n",
       "      <th>...</th>\n",
       "      <th>SatisfactionScore</th>\n",
       "      <th>MaritalStatus</th>\n",
       "      <th>NumberOfAddress</th>\n",
       "      <th>Complain</th>\n",
       "      <th>OrderAmountHikeFromlastYear</th>\n",
       "      <th>CouponUsed</th>\n",
       "      <th>OrderCount</th>\n",
       "      <th>DaySinceLastOrder</th>\n",
       "      <th>CashbackAmount</th>\n",
       "      <th>group</th>\n",
       "    </tr>\n",
       "  </thead>\n",
       "  <tbody>\n",
       "    <tr>\n",
       "      <th>2719</th>\n",
       "      <td>52720</td>\n",
       "      <td>0</td>\n",
       "      <td>60.0</td>\n",
       "      <td>Mobile Phone</td>\n",
       "      <td>3</td>\n",
       "      <td>60.0</td>\n",
       "      <td>Debit Card</td>\n",
       "      <td>Female</td>\n",
       "      <td>60.0</td>\n",
       "      <td>3</td>\n",
       "      <td>...</td>\n",
       "      <td>1</td>\n",
       "      <td>Married</td>\n",
       "      <td>5</td>\n",
       "      <td>1</td>\n",
       "      <td>60.0</td>\n",
       "      <td>60.0</td>\n",
       "      <td>60.0</td>\n",
       "      <td>60.0</td>\n",
       "      <td>278.75</td>\n",
       "      <td>NaN</td>\n",
       "    </tr>\n",
       "    <tr>\n",
       "      <th>5534</th>\n",
       "      <td>55535</td>\n",
       "      <td>0</td>\n",
       "      <td>61.0</td>\n",
       "      <td>Mobile Phone</td>\n",
       "      <td>3</td>\n",
       "      <td>61.0</td>\n",
       "      <td>Debit Card</td>\n",
       "      <td>Female</td>\n",
       "      <td>61.0</td>\n",
       "      <td>4</td>\n",
       "      <td>...</td>\n",
       "      <td>1</td>\n",
       "      <td>Married</td>\n",
       "      <td>6</td>\n",
       "      <td>1</td>\n",
       "      <td>61.0</td>\n",
       "      <td>61.0</td>\n",
       "      <td>61.0</td>\n",
       "      <td>61.0</td>\n",
       "      <td>303.75</td>\n",
       "      <td>NaN</td>\n",
       "    </tr>\n",
       "  </tbody>\n",
       "</table>\n",
       "<p>2 rows × 21 columns</p>\n",
       "</div>"
      ],
      "text/plain": [
       "      CustomerID  Churn  Tenure PreferredLoginDevice  CityTier  \\\n",
       "2719       52720      0    60.0         Mobile Phone         3   \n",
       "5534       55535      0    61.0         Mobile Phone         3   \n",
       "\n",
       "      WarehouseToHome PreferredPaymentMode  Gender  HourSpendOnApp  \\\n",
       "2719             60.0           Debit Card  Female            60.0   \n",
       "5534             61.0           Debit Card  Female            61.0   \n",
       "\n",
       "      NumberOfDeviceRegistered  ... SatisfactionScore  MaritalStatus  \\\n",
       "2719                         3  ...                 1        Married   \n",
       "5534                         4  ...                 1        Married   \n",
       "\n",
       "     NumberOfAddress  Complain  OrderAmountHikeFromlastYear  CouponUsed  \\\n",
       "2719               5         1                         60.0        60.0   \n",
       "5534               6         1                         61.0        61.0   \n",
       "\n",
       "      OrderCount  DaySinceLastOrder  CashbackAmount  group  \n",
       "2719        60.0               60.0          278.75    NaN  \n",
       "5534        61.0               61.0          303.75    NaN  \n",
       "\n",
       "[2 rows x 21 columns]"
      ]
     },
     "execution_count": 25,
     "metadata": {},
     "output_type": "execute_result"
    }
   ],
   "source": [
    "df['group'] = pd.cut(df['Tenure'],bins = range(0,62,10),right=False, labels = ['1-10', '11-20', '21-30', '31-40', '41-50', '51-60'])\n",
    "df[df['group'].isna()]"
   ]
  },
  {
   "cell_type": "code",
   "execution_count": 26,
   "id": "cef22cf9-d2e6-4491-9d9c-6ee733908dd3",
   "metadata": {},
   "outputs": [
    {
     "name": "stderr",
     "output_type": "stream",
     "text": [
      "C:\\Users\\Rango\\AppData\\Local\\Temp\\ipykernel_2716\\2259423609.py:1: FutureWarning: The default of observed=False is deprecated and will be changed to True in a future version of pandas. Pass observed=False to retain current behavior or observed=True to adopt the future default and silence this warning.\n",
      "  df.groupby(['group','Churn'])['Churn'].count()\n"
     ]
    },
    {
     "data": {
      "text/plain": [
       "group  Churn\n",
       "1-10   0        2140\n",
       "       1         741\n",
       "11-20  0        1707\n",
       "       1         181\n",
       "21-30  0         717\n",
       "       1          26\n",
       "31-40  0         115\n",
       "       1           0\n",
       "41-50  0           0\n",
       "       1           0\n",
       "51-60  0           1\n",
       "       1           0\n",
       "Name: Churn, dtype: int64"
      ]
     },
     "execution_count": 26,
     "metadata": {},
     "output_type": "execute_result"
    }
   ],
   "source": [
    "df.groupby(['group','Churn'])['Churn'].count()"
   ]
  },
  {
   "cell_type": "markdown",
   "id": "a2c1b0b6-3341-46f5-98c0-f8a8fdd4e27c",
   "metadata": {},
   "source": [
    ">**churn is higher in tensure group(1-10)** "
   ]
  },
  {
   "cell_type": "code",
   "execution_count": 31,
   "id": "76a8b1cb-ac50-4bc7-8ebe-4a846df6398e",
   "metadata": {},
   "outputs": [
    {
     "name": "stderr",
     "output_type": "stream",
     "text": [
      "C:\\Users\\Rango\\AppData\\Local\\Temp\\ipykernel_2716\\843693150.py:1: FutureWarning: The default of observed=False is deprecated and will be changed to True in a future version of pandas. Pass observed=False to retain current behavior or observed=True to adopt the future default and silence this warning.\n",
      "  df.groupby(['group','PreferredPaymentMode'])['PreferredPaymentMode'].count()\n"
     ]
    },
    {
     "data": {
      "text/plain": [
       "group  PreferredPaymentMode\n",
       "1-10   CC                       140\n",
       "       COD                      240\n",
       "       Cash on Delivery          36\n",
       "       Credit Card              761\n",
       "       Debit Card              1162\n",
       "       E wallet                 325\n",
       "       UPI                      217\n",
       "11-20  CC                       120\n",
       "       COD                       83\n",
       "       Cash on Delivery          69\n",
       "       Credit Card              451\n",
       "       Debit Card               818\n",
       "       E wallet                 184\n",
       "       UPI                      163\n",
       "21-30  CC                        10\n",
       "       COD                       42\n",
       "       Cash on Delivery          34\n",
       "       Credit Card              258\n",
       "       Debit Card               280\n",
       "       E wallet                  87\n",
       "       UPI                       32\n",
       "31-40  CC                         3\n",
       "       COD                        0\n",
       "       Cash on Delivery          10\n",
       "       Credit Card               31\n",
       "       Debit Card                51\n",
       "       E wallet                  18\n",
       "       UPI                        2\n",
       "41-50  CC                         0\n",
       "       COD                        0\n",
       "       Cash on Delivery           0\n",
       "       Credit Card                0\n",
       "       Debit Card                 0\n",
       "       E wallet                   0\n",
       "       UPI                        0\n",
       "51-60  CC                         0\n",
       "       COD                        0\n",
       "       Cash on Delivery           0\n",
       "       Credit Card                0\n",
       "       Debit Card                 1\n",
       "       E wallet                   0\n",
       "       UPI                        0\n",
       "Name: PreferredPaymentMode, dtype: int64"
      ]
     },
     "execution_count": 31,
     "metadata": {},
     "output_type": "execute_result"
    }
   ],
   "source": [
    "df.groupby(['group','PreferredPaymentMode'])['PreferredPaymentMode'].count()"
   ]
  },
  {
   "cell_type": "markdown",
   "id": "a1dfd288-c6cc-467c-a414-7214bca90a7d",
   "metadata": {},
   "source": [
    "> credit cards are the most used, then the debit cards"
   ]
  },
  {
   "cell_type": "code",
   "execution_count": 38,
   "id": "397f6e80-5f82-4be6-a785-714ff827c9d6",
   "metadata": {},
   "outputs": [],
   "source": [
    "df['PreferredLoginDevice'] = df['PreferredLoginDevice'].replace('Mobile Phone','Phone')"
   ]
  },
  {
   "cell_type": "markdown",
   "id": "d80fbd71-9c49-43bf-baa7-d3fedfe446c3",
   "metadata": {},
   "source": [
    "I merged the fields phone and mobile phone into phone."
   ]
  },
  {
   "cell_type": "code",
   "execution_count": 45,
   "id": "77f6d302-9dfc-42e8-8d42-d50fc088cd71",
   "metadata": {},
   "outputs": [
    {
     "data": {
      "text/plain": [
       "PreferredLoginDevice  Churn\n",
       "Computer              0        80.171359\n",
       "                      1        19.828641\n",
       "Phone                 0        84.384384\n",
       "                      1        15.615616\n",
       "Name: Churn, dtype: float64"
      ]
     },
     "execution_count": 45,
     "metadata": {},
     "output_type": "execute_result"
    }
   ],
   "source": [
    "count = df.groupby(['PreferredLoginDevice','Churn'])['Churn'].count()\n",
    "percentage = (count / count.groupby(level=0).transform('sum')) * 100\n",
    "percentage\n"
   ]
  },
  {
   "cell_type": "markdown",
   "id": "4bd41fa6-5344-41cf-83af-a5848b828c52",
   "metadata": {},
   "source": [
    "> computer users who churns is higher than the phone users by 4%"
   ]
  },
  {
   "cell_type": "code",
   "execution_count": 52,
   "id": "07d0a026-2ef5-4dde-b306-3299ae0a4caa",
   "metadata": {},
   "outputs": [
    {
     "data": {
      "text/plain": [
       "PreferredLoginDevice  Churn\n",
       "Computer              0        1310\n",
       "                      1         324\n",
       "Phone                 0        3372\n",
       "                      1         624\n",
       "Name: Churn, dtype: int64"
      ]
     },
     "execution_count": 52,
     "metadata": {},
     "output_type": "execute_result"
    }
   ],
   "source": [
    "count"
   ]
  },
  {
   "cell_type": "code",
   "execution_count": 55,
   "id": "2b245721-0058-47eb-880f-f3dccc87d85b",
   "metadata": {},
   "outputs": [
    {
     "data": {
      "text/plain": [
       "CityTier  Churn\n",
       "1         0        3134\n",
       "          1         532\n",
       "2         0         194\n",
       "          1          48\n",
       "3         0        1354\n",
       "          1         368\n",
       "Name: Churn, dtype: int64"
      ]
     },
     "execution_count": 55,
     "metadata": {},
     "output_type": "execute_result"
    }
   ],
   "source": [
    "city_tier_count = df.groupby(['CityTier','Churn'])['Churn'].count()\n",
    "city_tier_count"
   ]
  },
  {
   "cell_type": "code",
   "execution_count": 56,
   "id": "35d6f01a-f261-4cfc-996e-b74e124f34b3",
   "metadata": {},
   "outputs": [
    {
     "data": {
      "text/plain": [
       "CityTier  Churn\n",
       "1         0        85.488271\n",
       "          1        14.511729\n",
       "2         0        80.165289\n",
       "          1        19.834711\n",
       "3         0        78.629501\n",
       "          1        21.370499\n",
       "Name: Churn, dtype: float64"
      ]
     },
     "execution_count": 56,
     "metadata": {},
     "output_type": "execute_result"
    }
   ],
   "source": [
    "city_tier_percentage = (city_tier_count / city_tier_count.groupby(level=0).transform('sum')) * 100\n",
    "city_tier_percentage"
   ]
  },
  {
   "cell_type": "markdown",
   "id": "98fd0f81-0b22-4723-8350-847f7524daaf",
   "metadata": {},
   "source": [
    "The **churn rate** is higher among new customers, highlighting the need to improve retention strategies, such as enhancing the user experience and offering incentives.  \r\n",
    "\r\n",
    "Credit cards are the most used, followed by debit cards. This can be leveraged to enhance promotions related to payment methods."
   ]
  },
  {
   "cell_type": "code",
   "execution_count": 59,
   "id": "2a4b6a54-2675-4f9d-9849-6494019244df",
   "metadata": {},
   "outputs": [
    {
     "data": {
      "text/plain": [
       "WarehouseToHome\n",
       "1.000000     690\n",
       "0.000000     508\n",
       "10.189899    264\n",
       "8.000000     263\n",
       "9.000000     247\n",
       "7.000000     221\n",
       "10.000000    213\n",
       "5.000000     204\n",
       "4.000000     203\n",
       "3.000000     195\n",
       "11.000000    194\n",
       "6.000000     183\n",
       "12.000000    182\n",
       "13.000000    181\n",
       "14.000000    176\n",
       "2.000000     167\n",
       "15.000000    159\n",
       "16.000000    149\n",
       "19.000000    140\n",
       "18.000000    123\n",
       "20.000000    109\n",
       "17.000000    106\n",
       "23.000000     89\n",
       "21.000000     84\n",
       "22.000000     76\n",
       "24.000000     75\n",
       "28.000000     70\n",
       "30.000000     66\n",
       "27.000000     66\n",
       "26.000000     60\n",
       "25.000000     59\n",
       "29.000000     55\n",
       "31.000000     49\n",
       "50.000000      1\n",
       "60.000000      1\n",
       "51.000000      1\n",
       "61.000000      1\n",
       "Name: count, dtype: int64"
      ]
     },
     "execution_count": 59,
     "metadata": {},
     "output_type": "execute_result"
    }
   ],
   "source": [
    "df['WarehouseToHome'].value_counts()"
   ]
  },
  {
   "cell_type": "code",
   "execution_count": 60,
   "id": "1876f327-0528-431f-aecd-df49b49237e4",
   "metadata": {},
   "outputs": [
    {
     "data": {
      "text/plain": [
       "0        1-10\n",
       "1       11-20\n",
       "2       11-20\n",
       "3        1-10\n",
       "4        1-10\n",
       "        ...  \n",
       "5625    11-20\n",
       "5626    11-20\n",
       "5627     1-10\n",
       "5628    21-30\n",
       "5629     1-10\n",
       "Name: WarehouseToHome_group, Length: 5630, dtype: category\n",
       "Categories (6, object): ['1-10' < '11-20' < '21-30' < '31-40' < '41-50' < '51-60']"
      ]
     },
     "execution_count": 60,
     "metadata": {},
     "output_type": "execute_result"
    }
   ],
   "source": [
    "df['WarehouseToHome_group'] = pd.cut(df['WarehouseToHome'],bins = range(0,62,10),right=False, labels = ['1-10', '11-20', '21-30', '31-40', '41-50', '51-60'])\n",
    "df['WarehouseToHome_group'] "
   ]
  },
  {
   "cell_type": "code",
   "execution_count": 62,
   "id": "c26cb739-24fb-4000-b391-69089c4fb272",
   "metadata": {},
   "outputs": [
    {
     "name": "stderr",
     "output_type": "stream",
     "text": [
      "C:\\Users\\Rango\\AppData\\Local\\Temp\\ipykernel_2716\\1399979637.py:1: FutureWarning: The default of observed=False is deprecated and will be changed to True in a future version of pandas. Pass observed=False to retain current behavior or observed=True to adopt the future default and silence this warning.\n",
      "  WarehouseToHome_count = df.groupby(['WarehouseToHome_group','Churn'])['Churn'].count()\n"
     ]
    },
    {
     "data": {
      "text/plain": [
       "WarehouseToHome_group  Churn\n",
       "1-10                   0        2140\n",
       "                       1         741\n",
       "11-20                  0        1706\n",
       "                       1         181\n",
       "21-30                  0         717\n",
       "                       1          26\n",
       "31-40                  0         115\n",
       "                       1           0\n",
       "41-50                  0           0\n",
       "                       1           0\n",
       "51-60                  0           2\n",
       "                       1           0\n",
       "Name: Churn, dtype: int64"
      ]
     },
     "execution_count": 62,
     "metadata": {},
     "output_type": "execute_result"
    }
   ],
   "source": [
    "WarehouseToHome_count = df.groupby(['WarehouseToHome_group','Churn'])['Churn'].count()\n",
    "WarehouseToHome_count"
   ]
  },
  {
   "cell_type": "code",
   "execution_count": 63,
   "id": "79569a01-d096-4c10-913f-6727fae5d90e",
   "metadata": {},
   "outputs": [
    {
     "name": "stderr",
     "output_type": "stream",
     "text": [
      "C:\\Users\\Rango\\AppData\\Local\\Temp\\ipykernel_2716\\528367272.py:1: FutureWarning: The default of observed=False is deprecated and will be changed to True in a future version of pandas. Pass observed=False to retain current behavior or observed=True to adopt the future default and silence this warning.\n",
      "  WarehouseToHome_percentage = (WarehouseToHome_count / WarehouseToHome_count.groupby(level=0).transform('sum')) * 100\n"
     ]
    },
    {
     "data": {
      "text/plain": [
       "WarehouseToHome_group  Churn\n",
       "1-10                   0         74.279764\n",
       "                       1         25.720236\n",
       "11-20                  0         90.408055\n",
       "                       1          9.591945\n",
       "21-30                  0         96.500673\n",
       "                       1          3.499327\n",
       "31-40                  0        100.000000\n",
       "                       1          0.000000\n",
       "41-50                  0               NaN\n",
       "                       1               NaN\n",
       "51-60                  0        100.000000\n",
       "                       1          0.000000\n",
       "Name: Churn, dtype: float64"
      ]
     },
     "execution_count": 63,
     "metadata": {},
     "output_type": "execute_result"
    }
   ],
   "source": [
    "WarehouseToHome_percentage = (WarehouseToHome_count / WarehouseToHome_count.groupby(level=0).transform('sum')) * 100\n",
    "WarehouseToHome_percentage"
   ]
  },
  {
   "cell_type": "markdown",
   "id": "ac9b2189-4da8-4ade-87e8-244b2d2bfa5a",
   "metadata": {},
   "source": [
    "The shorter the distance to the warehouse, the higher the churn rate."
   ]
  },
  {
   "cell_type": "code",
   "execution_count": 66,
   "id": "38d19bfc-6ae3-457f-b2dd-b70edff9e28c",
   "metadata": {},
   "outputs": [
    {
     "data": {
      "text/plain": [
       "PreferredPaymentMode  Churn\n",
       "CC                    0         214\n",
       "                      1          59\n",
       "COD                   0         260\n",
       "                      1         105\n",
       "Cash on Delivery      0         126\n",
       "                      1          23\n",
       "Credit Card           0        1308\n",
       "                      1         193\n",
       "Debit Card            0        1958\n",
       "                      1         356\n",
       "E wallet              0         474\n",
       "                      1         140\n",
       "UPI                   0         342\n",
       "                      1          72\n",
       "Name: Churn, dtype: int64"
      ]
     },
     "execution_count": 66,
     "metadata": {},
     "output_type": "execute_result"
    }
   ],
   "source": [
    "PreferredPaymentMode_count = df.groupby(['PreferredPaymentMode','Churn'])['Churn'].count()\n",
    "PreferredPaymentMode_count"
   ]
  },
  {
   "cell_type": "code",
   "execution_count": 67,
   "id": "607d05a0-a39a-4c63-9ab6-a012a036c400",
   "metadata": {},
   "outputs": [
    {
     "data": {
      "text/plain": [
       "PreferredPaymentMode  Churn\n",
       "CC                    0        78.388278\n",
       "                      1        21.611722\n",
       "COD                   0        71.232877\n",
       "                      1        28.767123\n",
       "Cash on Delivery      0        84.563758\n",
       "                      1        15.436242\n",
       "Credit Card           0        87.141905\n",
       "                      1        12.858095\n",
       "Debit Card            0        84.615385\n",
       "                      1        15.384615\n",
       "E wallet              0        77.198697\n",
       "                      1        22.801303\n",
       "UPI                   0        82.608696\n",
       "                      1        17.391304\n",
       "Name: Churn, dtype: float64"
      ]
     },
     "execution_count": 67,
     "metadata": {},
     "output_type": "execute_result"
    }
   ],
   "source": [
    "PreferredPaymentMode_percentage = ( PreferredPaymentMode_count / PreferredPaymentMode_count.groupby(level=0).transform('sum')) * 100\n",
    "PreferredPaymentMode_percentage"
   ]
  },
  {
   "cell_type": "markdown",
   "id": "40464e21-71ef-4a3c-9ddc-aaf4241ac755",
   "metadata": {},
   "source": [
    "Customers who use cash payments have the highest churn rate, while credit card users have the lowest. However, this difference may not be significant, as most cash-paying customers are satisfied with the service, and the order volume is nearly the same for both groups"
   ]
  },
  {
   "cell_type": "code",
   "execution_count": 72,
   "id": "259255d8-4a4f-4e05-bbd9-b8306e868c23",
   "metadata": {},
   "outputs": [
    {
     "data": {
      "text/plain": [
       "PreferredPaymentMode  Churn\n",
       "Credit Card           0        87.141905\n",
       "Debit Card            0        84.615385\n",
       "Cash on Delivery      0        84.563758\n",
       "UPI                   0        82.608696\n",
       "CC                    0        78.388278\n",
       "E wallet              0        77.198697\n",
       "COD                   0        71.232877\n",
       "                      1        28.767123\n",
       "E wallet              1        22.801303\n",
       "CC                    1        21.611722\n",
       "UPI                   1        17.391304\n",
       "Cash on Delivery      1        15.436242\n",
       "Debit Card            1        15.384615\n",
       "Credit Card           1        12.858095\n",
       "Name: Churn, dtype: float64"
      ]
     },
     "execution_count": 72,
     "metadata": {},
     "output_type": "execute_result"
    }
   ],
   "source": [
    "PreferredPaymentMode_percentage_sorted = PreferredPaymentMode_percentage.sort_values(ascending=False)\n",
    "PreferredPaymentMode_percentage_sorted"
   ]
  },
  {
   "cell_type": "code",
   "execution_count": 75,
   "id": "d9f2b783-5315-4312-b764-325cc4de2ce6",
   "metadata": {},
   "outputs": [
    {
     "name": "stderr",
     "output_type": "stream",
     "text": [
      "C:\\Users\\Rango\\AppData\\Local\\Temp\\ipykernel_2716\\1817949444.py:1: FutureWarning: The default of observed=False is deprecated and will be changed to True in a future version of pandas. Pass observed=False to retain current behavior or observed=True to adopt the future default and silence this warning.\n",
      "  warehouse_to_paymentmode_count = df.groupby(['WarehouseToHome_group','PreferredPaymentMode'])['PreferredPaymentMode'].count()\n"
     ]
    },
    {
     "data": {
      "text/plain": [
       "WarehouseToHome_group  PreferredPaymentMode\n",
       "1-10                   CC                       140\n",
       "                       COD                      240\n",
       "                       Cash on Delivery          36\n",
       "                       Credit Card              761\n",
       "                       Debit Card              1162\n",
       "                       E wallet                 325\n",
       "                       UPI                      217\n",
       "11-20                  CC                       120\n",
       "                       COD                       83\n",
       "                       Cash on Delivery          69\n",
       "                       Credit Card              451\n",
       "                       Debit Card               817\n",
       "                       E wallet                 184\n",
       "                       UPI                      163\n",
       "21-30                  CC                        10\n",
       "                       COD                       42\n",
       "                       Cash on Delivery          34\n",
       "                       Credit Card              258\n",
       "                       Debit Card               280\n",
       "                       E wallet                  87\n",
       "                       UPI                       32\n",
       "31-40                  CC                         3\n",
       "                       COD                        0\n",
       "                       Cash on Delivery          10\n",
       "                       Credit Card               31\n",
       "                       Debit Card                51\n",
       "                       E wallet                  18\n",
       "                       UPI                        2\n",
       "41-50                  CC                         0\n",
       "                       COD                        0\n",
       "                       Cash on Delivery           0\n",
       "                       Credit Card                0\n",
       "                       Debit Card                 0\n",
       "                       E wallet                   0\n",
       "                       UPI                        0\n",
       "51-60                  CC                         0\n",
       "                       COD                        0\n",
       "                       Cash on Delivery           0\n",
       "                       Credit Card                0\n",
       "                       Debit Card                 2\n",
       "                       E wallet                   0\n",
       "                       UPI                        0\n",
       "Name: PreferredPaymentMode, dtype: int64"
      ]
     },
     "execution_count": 75,
     "metadata": {},
     "output_type": "execute_result"
    }
   ],
   "source": [
    "warehouse_to_paymentmode_count = df.groupby(['WarehouseToHome_group','PreferredPaymentMode'])['PreferredPaymentMode'].count()\n",
    "warehouse_to_paymentmode_count"
   ]
  },
  {
   "cell_type": "code",
   "execution_count": 77,
   "id": "bddca7eb-d13b-46d2-8a12-f4bbf6168c8b",
   "metadata": {},
   "outputs": [
    {
     "data": {
      "text/html": [
       "<div>\n",
       "<style scoped>\n",
       "    .dataframe tbody tr th:only-of-type {\n",
       "        vertical-align: middle;\n",
       "    }\n",
       "\n",
       "    .dataframe tbody tr th {\n",
       "        vertical-align: top;\n",
       "    }\n",
       "\n",
       "    .dataframe thead th {\n",
       "        text-align: right;\n",
       "    }\n",
       "</style>\n",
       "<table border=\"1\" class=\"dataframe\">\n",
       "  <thead>\n",
       "    <tr style=\"text-align: right;\">\n",
       "      <th></th>\n",
       "      <th>CustomerID</th>\n",
       "      <th>Churn</th>\n",
       "      <th>Tenure</th>\n",
       "      <th>PreferredLoginDevice</th>\n",
       "      <th>CityTier</th>\n",
       "      <th>WarehouseToHome</th>\n",
       "      <th>PreferredPaymentMode</th>\n",
       "      <th>Gender</th>\n",
       "      <th>HourSpendOnApp</th>\n",
       "      <th>NumberOfDeviceRegistered</th>\n",
       "      <th>...</th>\n",
       "      <th>MaritalStatus</th>\n",
       "      <th>NumberOfAddress</th>\n",
       "      <th>Complain</th>\n",
       "      <th>OrderAmountHikeFromlastYear</th>\n",
       "      <th>CouponUsed</th>\n",
       "      <th>OrderCount</th>\n",
       "      <th>DaySinceLastOrder</th>\n",
       "      <th>CashbackAmount</th>\n",
       "      <th>group</th>\n",
       "      <th>WarehouseToHome_group</th>\n",
       "    </tr>\n",
       "  </thead>\n",
       "  <tbody>\n",
       "    <tr>\n",
       "      <th>6</th>\n",
       "      <td>50007</td>\n",
       "      <td>1</td>\n",
       "      <td>10.189899</td>\n",
       "      <td>Phone</td>\n",
       "      <td>3</td>\n",
       "      <td>10.189899</td>\n",
       "      <td>Cash on Delivery</td>\n",
       "      <td>Male</td>\n",
       "      <td>10.189899</td>\n",
       "      <td>3</td>\n",
       "      <td>...</td>\n",
       "      <td>Divorced</td>\n",
       "      <td>4</td>\n",
       "      <td>0</td>\n",
       "      <td>10.189899</td>\n",
       "      <td>10.189899</td>\n",
       "      <td>10.189899</td>\n",
       "      <td>10.189899</td>\n",
       "      <td>120.86</td>\n",
       "      <td>11-20</td>\n",
       "      <td>11-20</td>\n",
       "    </tr>\n",
       "    <tr>\n",
       "      <th>10</th>\n",
       "      <td>50011</td>\n",
       "      <td>1</td>\n",
       "      <td>4.000000</td>\n",
       "      <td>Phone</td>\n",
       "      <td>1</td>\n",
       "      <td>4.000000</td>\n",
       "      <td>Cash on Delivery</td>\n",
       "      <td>Female</td>\n",
       "      <td>4.000000</td>\n",
       "      <td>3</td>\n",
       "      <td>...</td>\n",
       "      <td>Divorced</td>\n",
       "      <td>2</td>\n",
       "      <td>0</td>\n",
       "      <td>4.000000</td>\n",
       "      <td>4.000000</td>\n",
       "      <td>4.000000</td>\n",
       "      <td>4.000000</td>\n",
       "      <td>295.45</td>\n",
       "      <td>1-10</td>\n",
       "      <td>1-10</td>\n",
       "    </tr>\n",
       "    <tr>\n",
       "      <th>92</th>\n",
       "      <td>50093</td>\n",
       "      <td>1</td>\n",
       "      <td>10.189899</td>\n",
       "      <td>Phone</td>\n",
       "      <td>1</td>\n",
       "      <td>10.189899</td>\n",
       "      <td>Cash on Delivery</td>\n",
       "      <td>Male</td>\n",
       "      <td>10.189899</td>\n",
       "      <td>3</td>\n",
       "      <td>...</td>\n",
       "      <td>Single</td>\n",
       "      <td>1</td>\n",
       "      <td>0</td>\n",
       "      <td>10.189899</td>\n",
       "      <td>10.189899</td>\n",
       "      <td>10.189899</td>\n",
       "      <td>10.189899</td>\n",
       "      <td>120.58</td>\n",
       "      <td>11-20</td>\n",
       "      <td>11-20</td>\n",
       "    </tr>\n",
       "    <tr>\n",
       "      <th>106</th>\n",
       "      <td>50107</td>\n",
       "      <td>0</td>\n",
       "      <td>15.000000</td>\n",
       "      <td>Phone</td>\n",
       "      <td>1</td>\n",
       "      <td>15.000000</td>\n",
       "      <td>Cash on Delivery</td>\n",
       "      <td>Male</td>\n",
       "      <td>15.000000</td>\n",
       "      <td>3</td>\n",
       "      <td>...</td>\n",
       "      <td>Divorced</td>\n",
       "      <td>2</td>\n",
       "      <td>0</td>\n",
       "      <td>15.000000</td>\n",
       "      <td>15.000000</td>\n",
       "      <td>15.000000</td>\n",
       "      <td>15.000000</td>\n",
       "      <td>292.32</td>\n",
       "      <td>11-20</td>\n",
       "      <td>11-20</td>\n",
       "    </tr>\n",
       "    <tr>\n",
       "      <th>126</th>\n",
       "      <td>50127</td>\n",
       "      <td>0</td>\n",
       "      <td>12.000000</td>\n",
       "      <td>Computer</td>\n",
       "      <td>1</td>\n",
       "      <td>12.000000</td>\n",
       "      <td>Cash on Delivery</td>\n",
       "      <td>Female</td>\n",
       "      <td>12.000000</td>\n",
       "      <td>3</td>\n",
       "      <td>...</td>\n",
       "      <td>Single</td>\n",
       "      <td>1</td>\n",
       "      <td>0</td>\n",
       "      <td>12.000000</td>\n",
       "      <td>12.000000</td>\n",
       "      <td>12.000000</td>\n",
       "      <td>12.000000</td>\n",
       "      <td>209.38</td>\n",
       "      <td>11-20</td>\n",
       "      <td>11-20</td>\n",
       "    </tr>\n",
       "    <tr>\n",
       "      <th>...</th>\n",
       "      <td>...</td>\n",
       "      <td>...</td>\n",
       "      <td>...</td>\n",
       "      <td>...</td>\n",
       "      <td>...</td>\n",
       "      <td>...</td>\n",
       "      <td>...</td>\n",
       "      <td>...</td>\n",
       "      <td>...</td>\n",
       "      <td>...</td>\n",
       "      <td>...</td>\n",
       "      <td>...</td>\n",
       "      <td>...</td>\n",
       "      <td>...</td>\n",
       "      <td>...</td>\n",
       "      <td>...</td>\n",
       "      <td>...</td>\n",
       "      <td>...</td>\n",
       "      <td>...</td>\n",
       "      <td>...</td>\n",
       "      <td>...</td>\n",
       "    </tr>\n",
       "    <tr>\n",
       "      <th>5385</th>\n",
       "      <td>55386</td>\n",
       "      <td>0</td>\n",
       "      <td>19.000000</td>\n",
       "      <td>Phone</td>\n",
       "      <td>1</td>\n",
       "      <td>19.000000</td>\n",
       "      <td>Cash on Delivery</td>\n",
       "      <td>Female</td>\n",
       "      <td>19.000000</td>\n",
       "      <td>5</td>\n",
       "      <td>...</td>\n",
       "      <td>Single</td>\n",
       "      <td>3</td>\n",
       "      <td>0</td>\n",
       "      <td>19.000000</td>\n",
       "      <td>19.000000</td>\n",
       "      <td>19.000000</td>\n",
       "      <td>19.000000</td>\n",
       "      <td>292.04</td>\n",
       "      <td>11-20</td>\n",
       "      <td>11-20</td>\n",
       "    </tr>\n",
       "    <tr>\n",
       "      <th>5407</th>\n",
       "      <td>55408</td>\n",
       "      <td>0</td>\n",
       "      <td>5.000000</td>\n",
       "      <td>Phone</td>\n",
       "      <td>3</td>\n",
       "      <td>5.000000</td>\n",
       "      <td>Cash on Delivery</td>\n",
       "      <td>Male</td>\n",
       "      <td>5.000000</td>\n",
       "      <td>4</td>\n",
       "      <td>...</td>\n",
       "      <td>Married</td>\n",
       "      <td>3</td>\n",
       "      <td>0</td>\n",
       "      <td>5.000000</td>\n",
       "      <td>5.000000</td>\n",
       "      <td>5.000000</td>\n",
       "      <td>5.000000</td>\n",
       "      <td>208.46</td>\n",
       "      <td>1-10</td>\n",
       "      <td>1-10</td>\n",
       "    </tr>\n",
       "    <tr>\n",
       "      <th>5435</th>\n",
       "      <td>55436</td>\n",
       "      <td>0</td>\n",
       "      <td>25.000000</td>\n",
       "      <td>Phone</td>\n",
       "      <td>1</td>\n",
       "      <td>25.000000</td>\n",
       "      <td>Cash on Delivery</td>\n",
       "      <td>Female</td>\n",
       "      <td>25.000000</td>\n",
       "      <td>4</td>\n",
       "      <td>...</td>\n",
       "      <td>Married</td>\n",
       "      <td>4</td>\n",
       "      <td>0</td>\n",
       "      <td>25.000000</td>\n",
       "      <td>25.000000</td>\n",
       "      <td>25.000000</td>\n",
       "      <td>25.000000</td>\n",
       "      <td>256.16</td>\n",
       "      <td>21-30</td>\n",
       "      <td>21-30</td>\n",
       "    </tr>\n",
       "    <tr>\n",
       "      <th>5460</th>\n",
       "      <td>55461</td>\n",
       "      <td>0</td>\n",
       "      <td>8.000000</td>\n",
       "      <td>Phone</td>\n",
       "      <td>3</td>\n",
       "      <td>8.000000</td>\n",
       "      <td>Cash on Delivery</td>\n",
       "      <td>Male</td>\n",
       "      <td>8.000000</td>\n",
       "      <td>2</td>\n",
       "      <td>...</td>\n",
       "      <td>Married</td>\n",
       "      <td>3</td>\n",
       "      <td>0</td>\n",
       "      <td>8.000000</td>\n",
       "      <td>8.000000</td>\n",
       "      <td>8.000000</td>\n",
       "      <td>8.000000</td>\n",
       "      <td>192.99</td>\n",
       "      <td>1-10</td>\n",
       "      <td>1-10</td>\n",
       "    </tr>\n",
       "    <tr>\n",
       "      <th>5487</th>\n",
       "      <td>55488</td>\n",
       "      <td>0</td>\n",
       "      <td>20.000000</td>\n",
       "      <td>Phone</td>\n",
       "      <td>3</td>\n",
       "      <td>20.000000</td>\n",
       "      <td>Cash on Delivery</td>\n",
       "      <td>Female</td>\n",
       "      <td>20.000000</td>\n",
       "      <td>2</td>\n",
       "      <td>...</td>\n",
       "      <td>Married</td>\n",
       "      <td>4</td>\n",
       "      <td>0</td>\n",
       "      <td>20.000000</td>\n",
       "      <td>20.000000</td>\n",
       "      <td>20.000000</td>\n",
       "      <td>20.000000</td>\n",
       "      <td>257.25</td>\n",
       "      <td>21-30</td>\n",
       "      <td>21-30</td>\n",
       "    </tr>\n",
       "  </tbody>\n",
       "</table>\n",
       "<p>149 rows × 22 columns</p>\n",
       "</div>"
      ],
      "text/plain": [
       "      CustomerID  Churn     Tenure PreferredLoginDevice  CityTier  \\\n",
       "6          50007      1  10.189899                Phone         3   \n",
       "10         50011      1   4.000000                Phone         1   \n",
       "92         50093      1  10.189899                Phone         1   \n",
       "106        50107      0  15.000000                Phone         1   \n",
       "126        50127      0  12.000000             Computer         1   \n",
       "...          ...    ...        ...                  ...       ...   \n",
       "5385       55386      0  19.000000                Phone         1   \n",
       "5407       55408      0   5.000000                Phone         3   \n",
       "5435       55436      0  25.000000                Phone         1   \n",
       "5460       55461      0   8.000000                Phone         3   \n",
       "5487       55488      0  20.000000                Phone         3   \n",
       "\n",
       "      WarehouseToHome PreferredPaymentMode  Gender  HourSpendOnApp  \\\n",
       "6           10.189899     Cash on Delivery    Male       10.189899   \n",
       "10           4.000000     Cash on Delivery  Female        4.000000   \n",
       "92          10.189899     Cash on Delivery    Male       10.189899   \n",
       "106         15.000000     Cash on Delivery    Male       15.000000   \n",
       "126         12.000000     Cash on Delivery  Female       12.000000   \n",
       "...               ...                  ...     ...             ...   \n",
       "5385        19.000000     Cash on Delivery  Female       19.000000   \n",
       "5407         5.000000     Cash on Delivery    Male        5.000000   \n",
       "5435        25.000000     Cash on Delivery  Female       25.000000   \n",
       "5460         8.000000     Cash on Delivery    Male        8.000000   \n",
       "5487        20.000000     Cash on Delivery  Female       20.000000   \n",
       "\n",
       "      NumberOfDeviceRegistered  ... MaritalStatus  NumberOfAddress Complain  \\\n",
       "6                            3  ...      Divorced                4        0   \n",
       "10                           3  ...      Divorced                2        0   \n",
       "92                           3  ...        Single                1        0   \n",
       "106                          3  ...      Divorced                2        0   \n",
       "126                          3  ...        Single                1        0   \n",
       "...                        ...  ...           ...              ...      ...   \n",
       "5385                         5  ...        Single                3        0   \n",
       "5407                         4  ...       Married                3        0   \n",
       "5435                         4  ...       Married                4        0   \n",
       "5460                         2  ...       Married                3        0   \n",
       "5487                         2  ...       Married                4        0   \n",
       "\n",
       "      OrderAmountHikeFromlastYear  CouponUsed  OrderCount  DaySinceLastOrder  \\\n",
       "6                       10.189899   10.189899   10.189899          10.189899   \n",
       "10                       4.000000    4.000000    4.000000           4.000000   \n",
       "92                      10.189899   10.189899   10.189899          10.189899   \n",
       "106                     15.000000   15.000000   15.000000          15.000000   \n",
       "126                     12.000000   12.000000   12.000000          12.000000   \n",
       "...                           ...         ...         ...                ...   \n",
       "5385                    19.000000   19.000000   19.000000          19.000000   \n",
       "5407                     5.000000    5.000000    5.000000           5.000000   \n",
       "5435                    25.000000   25.000000   25.000000          25.000000   \n",
       "5460                     8.000000    8.000000    8.000000           8.000000   \n",
       "5487                    20.000000   20.000000   20.000000          20.000000   \n",
       "\n",
       "      CashbackAmount  group  WarehouseToHome_group  \n",
       "6             120.86  11-20                  11-20  \n",
       "10            295.45   1-10                   1-10  \n",
       "92            120.58  11-20                  11-20  \n",
       "106           292.32  11-20                  11-20  \n",
       "126           209.38  11-20                  11-20  \n",
       "...              ...    ...                    ...  \n",
       "5385          292.04  11-20                  11-20  \n",
       "5407          208.46   1-10                   1-10  \n",
       "5435          256.16  21-30                  21-30  \n",
       "5460          192.99   1-10                   1-10  \n",
       "5487          257.25  21-30                  21-30  \n",
       "\n",
       "[149 rows x 22 columns]"
      ]
     },
     "execution_count": 77,
     "metadata": {},
     "output_type": "execute_result"
    }
   ],
   "source": [
    "cash_df = df[df['PreferredPaymentMode'] == 'Cash on Delivery']\n",
    "cash_df"
   ]
  },
  {
   "cell_type": "code",
   "execution_count": 79,
   "id": "65573548-6735-45b7-911e-83c19840e2fe",
   "metadata": {},
   "outputs": [],
   "source": [
    "df['PreferredPaymentMode'] = df['PreferredPaymentMode'].replace('COD','Cash on Delivery')"
   ]
  },
  {
   "cell_type": "code",
   "execution_count": 82,
   "id": "a2fb93dd-5a64-4392-bd32-0caa6a86b5e0",
   "metadata": {},
   "outputs": [
    {
     "data": {
      "text/plain": [
       "SatisfactionScore\n",
       "1    27\n",
       "2    15\n",
       "3    41\n",
       "4    36\n",
       "5    30\n",
       "Name: SatisfactionScore, dtype: int64"
      ]
     },
     "execution_count": 82,
     "metadata": {},
     "output_type": "execute_result"
    }
   ],
   "source": [
    "SatisfactionScore1_count = cash_df.groupby('SatisfactionScore')['SatisfactionScore'].count()\n",
    "SatisfactionScore1_count"
   ]
  },
  {
   "cell_type": "code",
   "execution_count": 83,
   "id": "99715e57-f395-4b24-8410-220367b84604",
   "metadata": {},
   "outputs": [
    {
     "data": {
      "text/plain": [
       "OrderCount\n",
       "10.189899    24\n",
       "19.000000    10\n",
       "9.000000      8\n",
       "8.000000      7\n",
       "0.000000      6\n",
       "30.000000     6\n",
       "5.000000      6\n",
       "10.000000     6\n",
       "24.000000     6\n",
       "23.000000     6\n",
       "1.000000      6\n",
       "20.000000     6\n",
       "14.000000     5\n",
       "25.000000     4\n",
       "22.000000     4\n",
       "16.000000     4\n",
       "18.000000     4\n",
       "13.000000     4\n",
       "12.000000     4\n",
       "11.000000     4\n",
       "31.000000     4\n",
       "27.000000     3\n",
       "28.000000     3\n",
       "4.000000      3\n",
       "17.000000     2\n",
       "15.000000     2\n",
       "29.000000     2\n",
       "Name: OrderCount, dtype: int64"
      ]
     },
     "execution_count": 83,
     "metadata": {},
     "output_type": "execute_result"
    }
   ],
   "source": [
    "SatisfactionScore2_count = cash_df.groupby('OrderCount')['OrderCount'].count()\n",
    "SatisfactionScore2_count.sort_values(ascending=False) "
   ]
  },
  {
   "cell_type": "code",
   "execution_count": 85,
   "id": "ae029eb1-e7d4-4d00-9a89-65e41af3d3a9",
   "metadata": {},
   "outputs": [
    {
     "ename": "NameError",
     "evalue": "name 'Credit_Card_df' is not defined",
     "output_type": "error",
     "traceback": [
      "\u001b[1;31m---------------------------------------------------------------------------\u001b[0m",
      "\u001b[1;31mNameError\u001b[0m                                 Traceback (most recent call last)",
      "Cell \u001b[1;32mIn[85], line 1\u001b[0m\n\u001b[1;32m----> 1\u001b[0m SatisfactionScore3_count \u001b[38;5;241m=\u001b[39m Credit_Card_df\u001b[38;5;241m.\u001b[39mgroupby(\u001b[38;5;124m'\u001b[39m\u001b[38;5;124mOrderCount\u001b[39m\u001b[38;5;124m'\u001b[39m)[\u001b[38;5;124m'\u001b[39m\u001b[38;5;124mOrderCount\u001b[39m\u001b[38;5;124m'\u001b[39m]\u001b[38;5;241m.\u001b[39mcount()\n\u001b[0;32m      2\u001b[0m SatisfactionScore3_count\u001b[38;5;241m.\u001b[39msort_values(ascending\u001b[38;5;241m=\u001b[39m\u001b[38;5;28;01mFalse\u001b[39;00m)\n",
      "\u001b[1;31mNameError\u001b[0m: name 'Credit_Card_df' is not defined"
     ]
    }
   ],
   "source": [
    "SatisfactionScore3_count = Credit_Card_df.groupby('OrderCount')['OrderCount'].count()\n",
    "SatisfactionScore3_count.sort_values(ascending=False) "
   ]
  },
  {
   "cell_type": "code",
   "execution_count": null,
   "id": "00ae2ed3-5fcd-44a3-810a-0d8218cc5d1e",
   "metadata": {},
   "outputs": [],
   "source": [
    "Credit_Card_df = df[df['PreferredPaymentMode'] == 'Credit Card']\n",
    "Credit_Card_df"
   ]
  },
  {
   "cell_type": "code",
   "execution_count": null,
   "id": "84c8f6ef-d460-439b-b0d0-062a79d9ae73",
   "metadata": {},
   "outputs": [],
   "source": [
    "Gender_count = df.groupby(['Gender','Churn'])['Churn'].count()\n",
    "Gender_count"
   ]
  },
  {
   "cell_type": "code",
   "execution_count": null,
   "id": "01824d84-a06a-4b2b-91aa-f6d2a860d7cd",
   "metadata": {},
   "outputs": [],
   "source": [
    "Gender_percentage = ( Gender_count / Gender_count.groupby(level=0).transform('sum')) * 100\n",
    "Gender_percentage"
   ]
  },
  {
   "cell_type": "code",
   "execution_count": null,
   "id": "d3695726-7424-4825-ba05-6a61b7b8b989",
   "metadata": {},
   "outputs": [],
   "source": [
    "Gender_count2 = df.groupby(['Gender','Complain'])['Complain'].count()\n",
    "Gender_count2"
   ]
  },
  {
   "cell_type": "code",
   "execution_count": null,
   "id": "5fd263a0-a064-40e2-ab73-1a3a6020d921",
   "metadata": {},
   "outputs": [],
   "source": [
    "Gender2_percentage = ( Gender_count2 / Gender_count2.groupby(level=0).transform('sum')) * 100\n",
    "Gender2_percentage"
   ]
  },
  {
   "cell_type": "code",
   "execution_count": 92,
   "id": "426de931-cfdc-4879-93c0-97ae3ef1aa35",
   "metadata": {},
   "outputs": [
    {
     "data": {
      "text/plain": [
       "Gender  PreferredLoginDevice\n",
       "Female  Computer                 632\n",
       "        Phone                   1614\n",
       "Male    Computer                1002\n",
       "        Phone                   2382\n",
       "Name: PreferredLoginDevice, dtype: int64"
      ]
     },
     "execution_count": 92,
     "metadata": {},
     "output_type": "execute_result"
    }
   ],
   "source": [
    "Gender_count3 = df.groupby(['Gender','PreferredLoginDevice'])['PreferredLoginDevice'].count()\n",
    "Gender_count3"
   ]
  },
  {
   "cell_type": "code",
   "execution_count": 93,
   "id": "8d6514a3-65cb-4ee6-bbd0-01728fd012d7",
   "metadata": {},
   "outputs": [
    {
     "data": {
      "text/plain": [
       "Gender  PreferredLoginDevice\n",
       "Female  Computer                28.138914\n",
       "        Phone                   71.861086\n",
       "Male    Computer                29.609929\n",
       "        Phone                   70.390071\n",
       "Name: PreferredLoginDevice, dtype: float64"
      ]
     },
     "execution_count": 93,
     "metadata": {},
     "output_type": "execute_result"
    }
   ],
   "source": [
    "Gender3_percentage = ( Gender_count3 / Gender_count3.groupby(level=0).transform('sum')) * 100\n",
    "Gender3_percentage"
   ]
  },
  {
   "cell_type": "markdown",
   "id": "c64cb333-67fc-4622-93ae-65dbff85553b",
   "metadata": {},
   "source": [
    "Male customers represent the majority and they have a higher churn rate, while female customers have a higher complaint rate."
   ]
  },
  {
   "cell_type": "code",
   "execution_count": 97,
   "id": "74d0cf66-ea5e-4bc9-a39f-1c080180dfec",
   "metadata": {},
   "outputs": [
    {
     "data": {
      "text/plain": [
       "Churn\n",
       "0    53613.751584\n",
       "1     3755.381849\n",
       "Name: HourSpendOnApp, dtype: float64"
      ]
     },
     "execution_count": 97,
     "metadata": {},
     "output_type": "execute_result"
    }
   ],
   "source": [
    "HourSpendOnApp_count = df.groupby('Churn')['HourSpendOnApp'].sum()\n",
    "HourSpendOnApp_count"
   ]
  },
  {
   "cell_type": "code",
   "execution_count": 99,
   "id": "5c9f7f22-27c4-442f-b962-f94b4b757c1a",
   "metadata": {},
   "outputs": [
    {
     "data": {
      "text/plain": [
       "Churn\n",
       "0    4682\n",
       "1     948\n",
       "Name: HourSpendOnApp, dtype: int64"
      ]
     },
     "execution_count": 99,
     "metadata": {},
     "output_type": "execute_result"
    }
   ],
   "source": [
    "HourSpendOnApp_count2 = df.groupby('Churn')['HourSpendOnApp'].count()\n",
    "HourSpendOnApp_count2"
   ]
  },
  {
   "cell_type": "code",
   "execution_count": 101,
   "id": "4b030420-47c3-4120-a027-13d7922dcb13",
   "metadata": {},
   "outputs": [
    {
     "data": {
      "text/plain": [
       "Churn\n",
       "0     8.732834\n",
       "1    25.243771\n",
       "Name: HourSpendOnApp, dtype: float64"
      ]
     },
     "execution_count": 101,
     "metadata": {},
     "output_type": "execute_result"
    }
   ],
   "source": [
    "HourSpendOnApp_count2/HourSpendOnApp_count * 100"
   ]
  },
  {
   "cell_type": "markdown",
   "id": "01a78deb-6341-4f4f-9bbe-3b582bc48808",
   "metadata": {},
   "source": [
    "Churning customers spend significantly less time on the website on average, approximately 50,000 hours less than active users, which may indicate lower engagement or weaker connection to the service."
   ]
  },
  {
   "cell_type": "code",
   "execution_count": 104,
   "id": "216f8387-ff38-4f80-b2d0-85c946455277",
   "metadata": {},
   "outputs": [
    {
     "data": {
      "text/html": [
       "<div>\n",
       "<style scoped>\n",
       "    .dataframe tbody tr th:only-of-type {\n",
       "        vertical-align: middle;\n",
       "    }\n",
       "\n",
       "    .dataframe tbody tr th {\n",
       "        vertical-align: top;\n",
       "    }\n",
       "\n",
       "    .dataframe thead th {\n",
       "        text-align: right;\n",
       "    }\n",
       "</style>\n",
       "<table border=\"1\" class=\"dataframe\">\n",
       "  <thead>\n",
       "    <tr style=\"text-align: right;\">\n",
       "      <th></th>\n",
       "      <th></th>\n",
       "      <th>count</th>\n",
       "      <th>sum</th>\n",
       "    </tr>\n",
       "    <tr>\n",
       "      <th>NumberOfDeviceRegistered</th>\n",
       "      <th>Churn</th>\n",
       "      <th></th>\n",
       "      <th></th>\n",
       "    </tr>\n",
       "  </thead>\n",
       "  <tbody>\n",
       "    <tr>\n",
       "      <th rowspan=\"2\" valign=\"top\">1</th>\n",
       "      <th>0</th>\n",
       "      <td>213</td>\n",
       "      <td>2214.468692</td>\n",
       "    </tr>\n",
       "    <tr>\n",
       "      <th>1</th>\n",
       "      <td>22</td>\n",
       "      <td>87.379799</td>\n",
       "    </tr>\n",
       "    <tr>\n",
       "      <th rowspan=\"2\" valign=\"top\">2</th>\n",
       "      <th>0</th>\n",
       "      <td>250</td>\n",
       "      <td>2810.379799</td>\n",
       "    </tr>\n",
       "    <tr>\n",
       "      <th>1</th>\n",
       "      <td>26</td>\n",
       "      <td>94.000000</td>\n",
       "    </tr>\n",
       "    <tr>\n",
       "      <th rowspan=\"2\" valign=\"top\">3</th>\n",
       "      <th>0</th>\n",
       "      <td>1445</td>\n",
       "      <td>16314.167723</td>\n",
       "    </tr>\n",
       "    <tr>\n",
       "      <th>1</th>\n",
       "      <td>254</td>\n",
       "      <td>1199.355572</td>\n",
       "    </tr>\n",
       "    <tr>\n",
       "      <th rowspan=\"2\" valign=\"top\">4</th>\n",
       "      <th>0</th>\n",
       "      <td>1985</td>\n",
       "      <td>23231.595975</td>\n",
       "    </tr>\n",
       "    <tr>\n",
       "      <th>1</th>\n",
       "      <td>392</td>\n",
       "      <td>1530.367685</td>\n",
       "    </tr>\n",
       "    <tr>\n",
       "      <th rowspan=\"2\" valign=\"top\">5</th>\n",
       "      <th>0</th>\n",
       "      <td>683</td>\n",
       "      <td>7847.139396</td>\n",
       "    </tr>\n",
       "    <tr>\n",
       "      <th>1</th>\n",
       "      <td>198</td>\n",
       "      <td>674.278792</td>\n",
       "    </tr>\n",
       "    <tr>\n",
       "      <th rowspan=\"2\" valign=\"top\">6</th>\n",
       "      <th>0</th>\n",
       "      <td>106</td>\n",
       "      <td>1196.000000</td>\n",
       "    </tr>\n",
       "    <tr>\n",
       "      <th>1</th>\n",
       "      <td>56</td>\n",
       "      <td>170.000000</td>\n",
       "    </tr>\n",
       "  </tbody>\n",
       "</table>\n",
       "</div>"
      ],
      "text/plain": [
       "                                count           sum\n",
       "NumberOfDeviceRegistered Churn                     \n",
       "1                        0        213   2214.468692\n",
       "                         1         22     87.379799\n",
       "2                        0        250   2810.379799\n",
       "                         1         26     94.000000\n",
       "3                        0       1445  16314.167723\n",
       "                         1        254   1199.355572\n",
       "4                        0       1985  23231.595975\n",
       "                         1        392   1530.367685\n",
       "5                        0        683   7847.139396\n",
       "                         1        198    674.278792\n",
       "6                        0        106   1196.000000\n",
       "                         1         56    170.000000"
      ]
     },
     "execution_count": 104,
     "metadata": {},
     "output_type": "execute_result"
    }
   ],
   "source": [
    "NumberOfDeviceRegistered_count5 = df.groupby(['NumberOfDeviceRegistered','Churn']).agg(count=('Churn','count'),sum=('HourSpendOnApp','sum'))\n",
    "NumberOfDeviceRegistered_count5"
   ]
  },
  {
   "cell_type": "code",
   "execution_count": 106,
   "id": "7f12c4c4-45bb-4143-8f9b-70629bb651d6",
   "metadata": {},
   "outputs": [
    {
     "data": {
      "text/html": [
       "<div>\n",
       "<style scoped>\n",
       "    .dataframe tbody tr th:only-of-type {\n",
       "        vertical-align: middle;\n",
       "    }\n",
       "\n",
       "    .dataframe tbody tr th {\n",
       "        vertical-align: top;\n",
       "    }\n",
       "\n",
       "    .dataframe thead th {\n",
       "        text-align: right;\n",
       "    }\n",
       "</style>\n",
       "<table border=\"1\" class=\"dataframe\">\n",
       "  <thead>\n",
       "    <tr style=\"text-align: right;\">\n",
       "      <th></th>\n",
       "      <th></th>\n",
       "      <th>count</th>\n",
       "      <th>sum</th>\n",
       "    </tr>\n",
       "    <tr>\n",
       "      <th>NumberOfDeviceRegistered</th>\n",
       "      <th>Churn</th>\n",
       "      <th></th>\n",
       "      <th></th>\n",
       "    </tr>\n",
       "  </thead>\n",
       "  <tbody>\n",
       "    <tr>\n",
       "      <th rowspan=\"2\" valign=\"top\">1</th>\n",
       "      <th>0</th>\n",
       "      <td>90.638298</td>\n",
       "      <td>96.203929</td>\n",
       "    </tr>\n",
       "    <tr>\n",
       "      <th>1</th>\n",
       "      <td>9.361702</td>\n",
       "      <td>3.796071</td>\n",
       "    </tr>\n",
       "    <tr>\n",
       "      <th rowspan=\"2\" valign=\"top\">2</th>\n",
       "      <th>0</th>\n",
       "      <td>90.579710</td>\n",
       "      <td>96.763509</td>\n",
       "    </tr>\n",
       "    <tr>\n",
       "      <th>1</th>\n",
       "      <td>9.420290</td>\n",
       "      <td>3.236491</td>\n",
       "    </tr>\n",
       "    <tr>\n",
       "      <th rowspan=\"2\" valign=\"top\">3</th>\n",
       "      <th>0</th>\n",
       "      <td>85.050029</td>\n",
       "      <td>93.151832</td>\n",
       "    </tr>\n",
       "    <tr>\n",
       "      <th>1</th>\n",
       "      <td>14.949971</td>\n",
       "      <td>6.848168</td>\n",
       "    </tr>\n",
       "    <tr>\n",
       "      <th rowspan=\"2\" valign=\"top\">4</th>\n",
       "      <th>0</th>\n",
       "      <td>83.508624</td>\n",
       "      <td>93.819684</td>\n",
       "    </tr>\n",
       "    <tr>\n",
       "      <th>1</th>\n",
       "      <td>16.491376</td>\n",
       "      <td>6.180316</td>\n",
       "    </tr>\n",
       "    <tr>\n",
       "      <th rowspan=\"2\" valign=\"top\">5</th>\n",
       "      <th>0</th>\n",
       "      <td>77.525539</td>\n",
       "      <td>92.087247</td>\n",
       "    </tr>\n",
       "    <tr>\n",
       "      <th>1</th>\n",
       "      <td>22.474461</td>\n",
       "      <td>7.912753</td>\n",
       "    </tr>\n",
       "    <tr>\n",
       "      <th rowspan=\"2\" valign=\"top\">6</th>\n",
       "      <th>0</th>\n",
       "      <td>65.432099</td>\n",
       "      <td>87.554905</td>\n",
       "    </tr>\n",
       "    <tr>\n",
       "      <th>1</th>\n",
       "      <td>34.567901</td>\n",
       "      <td>12.445095</td>\n",
       "    </tr>\n",
       "  </tbody>\n",
       "</table>\n",
       "</div>"
      ],
      "text/plain": [
       "                                    count        sum\n",
       "NumberOfDeviceRegistered Churn                      \n",
       "1                        0      90.638298  96.203929\n",
       "                         1       9.361702   3.796071\n",
       "2                        0      90.579710  96.763509\n",
       "                         1       9.420290   3.236491\n",
       "3                        0      85.050029  93.151832\n",
       "                         1      14.949971   6.848168\n",
       "4                        0      83.508624  93.819684\n",
       "                         1      16.491376   6.180316\n",
       "5                        0      77.525539  92.087247\n",
       "                         1      22.474461   7.912753\n",
       "6                        0      65.432099  87.554905\n",
       "                         1      34.567901  12.445095"
      ]
     },
     "execution_count": 106,
     "metadata": {},
     "output_type": "execute_result"
    }
   ],
   "source": [
    "NumberOfDeviceRegistered_percentage = ( NumberOfDeviceRegistered_count5 / NumberOfDeviceRegistered_count5.groupby(level=0).transform('sum')) * 100\n",
    "NumberOfDeviceRegistered_percentage"
   ]
  },
  {
   "cell_type": "markdown",
   "id": "96ba0c66-8eb8-4803-84d0-fd0a74b8ce58",
   "metadata": {},
   "source": [
    "The churn rate increases with the number of devices used, possibly due to login issues, differences in features across devices, or user experience problems. For example, a useful feature available on laptops but missing on mobile devices could frustrate users."
   ]
  },
  {
   "cell_type": "code",
   "execution_count": 109,
   "id": "0d3b1e6f-d346-4dd6-aaa3-7cdc713d46a6",
   "metadata": {},
   "outputs": [
    {
     "data": {
      "text/plain": [
       "Complain  Churn\n",
       "0         0        3586\n",
       "          1         440\n",
       "1         0        1096\n",
       "          1         508\n",
       "Name: Churn, dtype: int64"
      ]
     },
     "execution_count": 109,
     "metadata": {},
     "output_type": "execute_result"
    }
   ],
   "source": [
    "Complain1_count = df.groupby(['Complain','Churn'])['Churn'].count()\n",
    "Complain1_count"
   ]
  },
  {
   "cell_type": "code",
   "execution_count": 111,
   "id": "a87e27ec-972d-473c-999d-eb03e00fb86a",
   "metadata": {},
   "outputs": [
    {
     "data": {
      "text/plain": [
       "Complain  Churn\n",
       "0         0        89.071038\n",
       "          1        10.928962\n",
       "1         0        68.329177\n",
       "          1        31.670823\n",
       "Name: Churn, dtype: float64"
      ]
     },
     "execution_count": 111,
     "metadata": {},
     "output_type": "execute_result"
    }
   ],
   "source": [
    "Complain1_percentage = ( Complain1_count / Complain1_count.groupby(level=0).transform('sum')) * 100\n",
    "Complain1_percentage"
   ]
  },
  {
   "cell_type": "code",
   "execution_count": 113,
   "id": "e8fa63fc-e909-43f4-8265-1d2bd891e3df",
   "metadata": {},
   "outputs": [
    {
     "data": {
      "text/plain": [
       "Churn\n",
       "0    845734.02\n",
       "1    152031.64\n",
       "Name: CashbackAmount, dtype: float64"
      ]
     },
     "execution_count": 113,
     "metadata": {},
     "output_type": "execute_result"
    }
   ],
   "source": [
    "CashbackAmount_sum = df.groupby('Churn')['CashbackAmount'].sum()\n",
    "CashbackAmount_sum"
   ]
  },
  {
   "cell_type": "code",
   "execution_count": 115,
   "id": "deffd82b-d304-4b4e-a689-5230efa5675f",
   "metadata": {},
   "outputs": [
    {
     "data": {
      "text/plain": [
       "Churn\n",
       "0    4682\n",
       "1     948\n",
       "Name: CashbackAmount, dtype: int64"
      ]
     },
     "execution_count": 115,
     "metadata": {},
     "output_type": "execute_result"
    }
   ],
   "source": [
    "CashbackAmount_count = df.groupby('Churn')['CashbackAmount'].count()\n",
    "CashbackAmount_count"
   ]
  },
  {
   "cell_type": "code",
   "execution_count": 117,
   "id": "20e811b4-14d3-4be3-9d72-f2e274362c9d",
   "metadata": {},
   "outputs": [
    {
     "data": {
      "text/plain": [
       "Churn\n",
       "0    0.553602\n",
       "1    0.623554\n",
       "Name: CashbackAmount, dtype: float64"
      ]
     },
     "execution_count": 117,
     "metadata": {},
     "output_type": "execute_result"
    }
   ],
   "source": [
    "CashbackAmount_count / CashbackAmount_sum * 100"
   ]
  },
  {
   "cell_type": "code",
   "execution_count": 121,
   "id": "8693b511-58fc-4d3e-9d4d-35e15023188a",
   "metadata": {},
   "outputs": [
    {
     "data": {
      "text/plain": [
       "NumberOfDeviceRegistered\n",
       "1     2301.848490\n",
       "2     2904.379799\n",
       "3    17513.523295\n",
       "4    24761.963660\n",
       "5     8521.418189\n",
       "6     1366.000000\n",
       "Name: HourSpendOnApp, dtype: float64"
      ]
     },
     "execution_count": 121,
     "metadata": {},
     "output_type": "execute_result"
    }
   ],
   "source": [
    "df.groupby('NumberOfDeviceRegistered')['HourSpendOnApp'].sum()"
   ]
  },
  {
   "cell_type": "code",
   "execution_count": 123,
   "id": "702cca91-0f72-44a4-a3d4-07060b1ef60c",
   "metadata": {},
   "outputs": [
    {
     "data": {
      "text/plain": [
       "0        1-10\n",
       "1       11-20\n",
       "2       11-20\n",
       "3        1-10\n",
       "4        1-10\n",
       "        ...  \n",
       "5625    11-20\n",
       "5626    11-20\n",
       "5627     1-10\n",
       "5628    21-30\n",
       "5629     1-10\n",
       "Name: CouponUsed_group, Length: 5630, dtype: category\n",
       "Categories (6, object): ['1-10' < '11-20' < '21-30' < '31-40' < '41-50' < '51-60']"
      ]
     },
     "execution_count": 123,
     "metadata": {},
     "output_type": "execute_result"
    }
   ],
   "source": [
    "df['CouponUsed_group'] = pd.cut(df['CouponUsed'],bins = range(0,62,10),right=False, labels = ['1-10', '11-20', '21-30', '31-40', '41-50', '51-60'])\n",
    "df['CouponUsed_group']"
   ]
  },
  {
   "cell_type": "code",
   "execution_count": 125,
   "id": "4e7c9e86-4d9d-4b81-ad47-3b803ca12092",
   "metadata": {},
   "outputs": [
    {
     "name": "stderr",
     "output_type": "stream",
     "text": [
      "C:\\Users\\Rango\\AppData\\Local\\Temp\\ipykernel_2716\\2144029197.py:1: FutureWarning: The default of observed=False is deprecated and will be changed to True in a future version of pandas. Pass observed=False to retain current behavior or observed=True to adopt the future default and silence this warning.\n",
      "  df.groupby('CouponUsed_group')['CashbackAmount'].sum()\n"
     ]
    },
    {
     "data": {
      "text/plain": [
       "CouponUsed_group\n",
       "1-10     466247.67\n",
       "11-20    339913.50\n",
       "21-30    166554.39\n",
       "31-40     24144.60\n",
       "41-50         0.00\n",
       "51-60       323.00\n",
       "Name: CashbackAmount, dtype: float64"
      ]
     },
     "execution_count": 125,
     "metadata": {},
     "output_type": "execute_result"
    }
   ],
   "source": [
    "df.groupby('CouponUsed_group')['CashbackAmount'].sum()"
   ]
  },
  {
   "cell_type": "markdown",
   "id": "14dd684f-255c-4570-8e34-998c4f9babda",
   "metadata": {},
   "source": [
    "Churning customers rarely use coupons, possibly because they don’t find them valuable enough. Coupon usage also decreases as the number of orders increases, especially after 30 orders, due to their fixed value. This can be addressed by offering personalized coupons to at-risk customers and launching loyalty programs that encourage continued ordering, such as increasing rewards or providing exclusive offers for high-value customers."
   ]
  },
  {
   "cell_type": "code",
   "execution_count": 128,
   "id": "58cb8606-a4ca-438b-90f4-b6e41e9f0a9e",
   "metadata": {},
   "outputs": [
    {
     "data": {
      "text/plain": [
       "Churn  MaritalStatus\n",
       "0      Divorced          724\n",
       "       Married          2642\n",
       "       Single           1316\n",
       "1      Divorced          124\n",
       "       Married           344\n",
       "       Single            480\n",
       "Name: MaritalStatus, dtype: int64"
      ]
     },
     "execution_count": 128,
     "metadata": {},
     "output_type": "execute_result"
    }
   ],
   "source": [
    "MaritalStatus_count = df.groupby(['Churn','MaritalStatus'])['MaritalStatus'].count()\n",
    "MaritalStatus_count"
   ]
  },
  {
   "cell_type": "code",
   "execution_count": 130,
   "id": "705a08ff-d2d2-4914-85a4-dff11a657884",
   "metadata": {},
   "outputs": [
    {
     "data": {
      "text/plain": [
       "Churn  MaritalStatus\n",
       "0      Divorced         15.463477\n",
       "       Married          56.428877\n",
       "       Single           28.107646\n",
       "1      Divorced         13.080169\n",
       "       Married          36.286920\n",
       "       Single           50.632911\n",
       "Name: MaritalStatus, dtype: float64"
      ]
     },
     "execution_count": 130,
     "metadata": {},
     "output_type": "execute_result"
    }
   ],
   "source": [
    "MaritalStatus_Churn_percentage = (MaritalStatus_count / MaritalStatus_count.groupby(level=0).transform('sum')) * 100\n",
    "MaritalStatus_Churn_percentage"
   ]
  },
  {
   "cell_type": "code",
   "execution_count": 132,
   "id": "da9bd920-f941-46ec-8203-836b8bc01c49",
   "metadata": {},
   "outputs": [],
   "source": [
    "df.replace('Mobile Phone','Mobile',inplace = True)"
   ]
  },
  {
   "cell_type": "code",
   "execution_count": 134,
   "id": "f64253a1-c032-4d3f-920a-c3e85dcf86e0",
   "metadata": {},
   "outputs": [
    {
     "data": {
      "text/plain": [
       "MaritalStatus  PreferedOrderCat  \n",
       "Divorced       Fashion                126\n",
       "               Grocery                 82\n",
       "               Laptop & Accessory     296\n",
       "               Mobile                 296\n",
       "               Others                  48\n",
       "Married        Fashion                466\n",
       "               Grocery                224\n",
       "               Laptop & Accessory    1134\n",
       "               Mobile                1006\n",
       "               Others                 156\n",
       "Single         Fashion                234\n",
       "               Grocery                104\n",
       "               Laptop & Accessory     620\n",
       "               Mobile                 778\n",
       "               Others                  60\n",
       "Name: PreferedOrderCat, dtype: int64"
      ]
     },
     "execution_count": 134,
     "metadata": {},
     "output_type": "execute_result"
    }
   ],
   "source": [
    "PreferedOrderCat_count = df.groupby(['MaritalStatus','PreferedOrderCat'])['PreferedOrderCat'].count()\n",
    "PreferedOrderCat_count"
   ]
  },
  {
   "cell_type": "code",
   "execution_count": 136,
   "id": "13ed4f40-1067-4858-875b-52c439a0d34c",
   "metadata": {},
   "outputs": [
    {
     "data": {
      "text/plain": [
       "MaritalStatus  PreferedOrderCat  \n",
       "Divorced       Fashion               14.858491\n",
       "               Grocery                9.669811\n",
       "               Laptop & Accessory    34.905660\n",
       "               Mobile                34.905660\n",
       "               Others                 5.660377\n",
       "Married        Fashion               15.606162\n",
       "               Grocery                7.501674\n",
       "               Laptop & Accessory    37.977227\n",
       "               Mobile                33.690556\n",
       "               Others                 5.224380\n",
       "Single         Fashion               13.028953\n",
       "               Grocery                5.790646\n",
       "               Laptop & Accessory    34.521158\n",
       "               Mobile                43.318486\n",
       "               Others                 3.340757\n",
       "Name: PreferedOrderCat, dtype: float64"
      ]
     },
     "execution_count": 136,
     "metadata": {},
     "output_type": "execute_result"
    }
   ],
   "source": [
    "PreferedOrderCat_count_percentage = (PreferedOrderCat_count / PreferedOrderCat_count.groupby(level=0).transform('sum')) * 100\n",
    "PreferedOrderCat_count_percentage"
   ]
  },
  {
   "cell_type": "markdown",
   "id": "0a9580e7-6c4d-496c-a570-72bb56432efe",
   "metadata": {},
   "source": [
    "The churn rate among single customers is very high, with their purchases mainly focused on laptop accessories and mobile phones, followed by fashion, which interests them as much as divorced customers and more than married ones. Meanwhile, divorced customers have the lowest churn rate."
   ]
  },
  {
   "cell_type": "code",
   "execution_count": 139,
   "id": "02e75ea1-3a7f-41c0-819d-9b2456162b34",
   "metadata": {},
   "outputs": [
    {
     "data": {
      "text/plain": [
       "Gender  PreferedOrderCat  \n",
       "Female  Fashion                354\n",
       "        Grocery                198\n",
       "        Laptop & Accessory     844\n",
       "        Mobile                 764\n",
       "        Others                  86\n",
       "Male    Fashion                472\n",
       "        Grocery                212\n",
       "        Laptop & Accessory    1206\n",
       "        Mobile                1316\n",
       "        Others                 178\n",
       "Name: PreferedOrderCat, dtype: int64"
      ]
     },
     "execution_count": 139,
     "metadata": {},
     "output_type": "execute_result"
    }
   ],
   "source": [
    "PreferedOrderCat_by_Gender_count = df.groupby(['Gender','PreferedOrderCat'])['PreferedOrderCat'].count()\n",
    "PreferedOrderCat_by_Gender_count"
   ]
  },
  {
   "cell_type": "code",
   "execution_count": 141,
   "id": "ca14101b-40ea-4b5a-b04e-d9deb3845873",
   "metadata": {},
   "outputs": [
    {
     "data": {
      "text/plain": [
       "Gender  PreferedOrderCat  \n",
       "Female  Fashion               15.761354\n",
       "        Grocery                8.815672\n",
       "        Laptop & Accessory    37.577916\n",
       "        Mobile                34.016028\n",
       "        Others                 3.829029\n",
       "Male    Fashion               13.947991\n",
       "        Grocery                6.264775\n",
       "        Laptop & Accessory    35.638298\n",
       "        Mobile                38.888889\n",
       "        Others                 5.260047\n",
       "Name: PreferedOrderCat, dtype: float64"
      ]
     },
     "execution_count": 141,
     "metadata": {},
     "output_type": "execute_result"
    }
   ],
   "source": [
    "PreferedOrderCat_by_Gender_count_percentage = (PreferedOrderCat_by_Gender_count / PreferedOrderCat_by_Gender_count.groupby(level=0).transform('sum')) * 100\n",
    "PreferedOrderCat_by_Gender_count_percentage"
   ]
  },
  {
   "cell_type": "code",
   "execution_count": 143,
   "id": "cdbce7bb-25e3-4775-ad83-5b3006195704",
   "metadata": {},
   "outputs": [
    {
     "data": {
      "text/plain": [
       "Complain  MaritalStatus\n",
       "0         Divorced          600\n",
       "          Married          2140\n",
       "          Single           1286\n",
       "1         Divorced          248\n",
       "          Married           846\n",
       "          Single            510\n",
       "Name: MaritalStatus, dtype: int64"
      ]
     },
     "execution_count": 143,
     "metadata": {},
     "output_type": "execute_result"
    }
   ],
   "source": [
    "Complain_by_MaritalStatus_count = df.groupby(['Complain','MaritalStatus'])['MaritalStatus'].count()\n",
    "Complain_by_MaritalStatus_count"
   ]
  },
  {
   "cell_type": "code",
   "execution_count": 145,
   "id": "a2708979-e267-4d1a-93da-55c45f23e535",
   "metadata": {},
   "outputs": [
    {
     "data": {
      "text/plain": [
       "Complain  MaritalStatus\n",
       "0         Divorced         14.903130\n",
       "          Married          53.154496\n",
       "          Single           31.942375\n",
       "1         Divorced         15.461347\n",
       "          Married          52.743142\n",
       "          Single           31.795511\n",
       "Name: MaritalStatus, dtype: float64"
      ]
     },
     "execution_count": 145,
     "metadata": {},
     "output_type": "execute_result"
    }
   ],
   "source": [
    "Complain_by_MaritalStatus_count_percentage = (Complain_by_MaritalStatus_count / Complain_by_MaritalStatus_count.groupby(level=0).transform('sum')) * 100\n",
    "Complain_by_MaritalStatus_count_percentage"
   ]
  },
  {
   "cell_type": "code",
   "execution_count": 147,
   "id": "3a2fee7f-b8fc-481f-b7c3-91270d07cef4",
   "metadata": {},
   "outputs": [
    {
     "data": {
      "text/plain": [
       "MaritalStatus\n",
       "Divorced     9302.026277\n",
       "Married     32361.686918\n",
       "Single      15705.420239\n",
       "Name: CouponUsed, dtype: float64"
      ]
     },
     "execution_count": 147,
     "metadata": {},
     "output_type": "execute_result"
    }
   ],
   "source": [
    "df.groupby('MaritalStatus')['CouponUsed'].sum()"
   ]
  },
  {
   "cell_type": "markdown",
   "id": "31b0e5c1-6212-4f7d-be0c-7bd8a547f230",
   "metadata": {},
   "source": [
    "kpis : \n",
    "1. Customer Churn Rate\n",
    "2. Average Customer Tenure\n",
    "3. Net Promoter Score (NPS)\n",
    "4. Repeat Purchase Rate\n",
    "8. Customer Feedback and Complaint Rates).\r\n",
    "\n"
   ]
  },
  {
   "cell_type": "code",
   "execution_count": 150,
   "id": "d7bc7e40-e1fb-4b2d-acc6-44458ee34100",
   "metadata": {},
   "outputs": [
    {
     "data": {
      "text/html": [
       "<div>\n",
       "<style scoped>\n",
       "    .dataframe tbody tr th:only-of-type {\n",
       "        vertical-align: middle;\n",
       "    }\n",
       "\n",
       "    .dataframe tbody tr th {\n",
       "        vertical-align: top;\n",
       "    }\n",
       "\n",
       "    .dataframe thead th {\n",
       "        text-align: right;\n",
       "    }\n",
       "</style>\n",
       "<table border=\"1\" class=\"dataframe\">\n",
       "  <thead>\n",
       "    <tr style=\"text-align: right;\">\n",
       "      <th></th>\n",
       "      <th>CustomerID</th>\n",
       "      <th>Churn</th>\n",
       "      <th>Tenure</th>\n",
       "      <th>CityTier</th>\n",
       "      <th>WarehouseToHome</th>\n",
       "      <th>HourSpendOnApp</th>\n",
       "      <th>NumberOfDeviceRegistered</th>\n",
       "      <th>SatisfactionScore</th>\n",
       "      <th>NumberOfAddress</th>\n",
       "      <th>Complain</th>\n",
       "      <th>OrderAmountHikeFromlastYear</th>\n",
       "      <th>CouponUsed</th>\n",
       "      <th>OrderCount</th>\n",
       "      <th>DaySinceLastOrder</th>\n",
       "      <th>CashbackAmount</th>\n",
       "    </tr>\n",
       "  </thead>\n",
       "  <tbody>\n",
       "    <tr>\n",
       "      <th>count</th>\n",
       "      <td>5630.000000</td>\n",
       "      <td>5630.000000</td>\n",
       "      <td>5630.000000</td>\n",
       "      <td>5630.000000</td>\n",
       "      <td>5630.000000</td>\n",
       "      <td>5630.000000</td>\n",
       "      <td>5630.000000</td>\n",
       "      <td>5630.000000</td>\n",
       "      <td>5630.000000</td>\n",
       "      <td>5630.000000</td>\n",
       "      <td>5630.000000</td>\n",
       "      <td>5630.000000</td>\n",
       "      <td>5630.000000</td>\n",
       "      <td>5630.000000</td>\n",
       "      <td>5630.000000</td>\n",
       "    </tr>\n",
       "    <tr>\n",
       "      <th>mean</th>\n",
       "      <td>52815.500000</td>\n",
       "      <td>0.168384</td>\n",
       "      <td>10.182795</td>\n",
       "      <td>1.654707</td>\n",
       "      <td>10.189899</td>\n",
       "      <td>10.189899</td>\n",
       "      <td>3.688988</td>\n",
       "      <td>3.066785</td>\n",
       "      <td>4.214032</td>\n",
       "      <td>0.284902</td>\n",
       "      <td>10.189899</td>\n",
       "      <td>10.189899</td>\n",
       "      <td>10.189899</td>\n",
       "      <td>10.189899</td>\n",
       "      <td>177.223030</td>\n",
       "    </tr>\n",
       "    <tr>\n",
       "      <th>std</th>\n",
       "      <td>1625.385339</td>\n",
       "      <td>0.374240</td>\n",
       "      <td>8.337294</td>\n",
       "      <td>0.915389</td>\n",
       "      <td>8.354164</td>\n",
       "      <td>8.354164</td>\n",
       "      <td>1.023999</td>\n",
       "      <td>1.380194</td>\n",
       "      <td>2.583586</td>\n",
       "      <td>0.451408</td>\n",
       "      <td>8.354164</td>\n",
       "      <td>8.354164</td>\n",
       "      <td>8.354164</td>\n",
       "      <td>8.354164</td>\n",
       "      <td>49.207036</td>\n",
       "    </tr>\n",
       "    <tr>\n",
       "      <th>min</th>\n",
       "      <td>50001.000000</td>\n",
       "      <td>0.000000</td>\n",
       "      <td>0.000000</td>\n",
       "      <td>1.000000</td>\n",
       "      <td>0.000000</td>\n",
       "      <td>0.000000</td>\n",
       "      <td>1.000000</td>\n",
       "      <td>1.000000</td>\n",
       "      <td>1.000000</td>\n",
       "      <td>0.000000</td>\n",
       "      <td>0.000000</td>\n",
       "      <td>0.000000</td>\n",
       "      <td>0.000000</td>\n",
       "      <td>0.000000</td>\n",
       "      <td>0.000000</td>\n",
       "    </tr>\n",
       "    <tr>\n",
       "      <th>25%</th>\n",
       "      <td>51408.250000</td>\n",
       "      <td>0.000000</td>\n",
       "      <td>3.000000</td>\n",
       "      <td>1.000000</td>\n",
       "      <td>3.000000</td>\n",
       "      <td>3.000000</td>\n",
       "      <td>3.000000</td>\n",
       "      <td>2.000000</td>\n",
       "      <td>2.000000</td>\n",
       "      <td>0.000000</td>\n",
       "      <td>3.000000</td>\n",
       "      <td>3.000000</td>\n",
       "      <td>3.000000</td>\n",
       "      <td>3.000000</td>\n",
       "      <td>145.770000</td>\n",
       "    </tr>\n",
       "    <tr>\n",
       "      <th>50%</th>\n",
       "      <td>52815.500000</td>\n",
       "      <td>0.000000</td>\n",
       "      <td>9.000000</td>\n",
       "      <td>1.000000</td>\n",
       "      <td>9.000000</td>\n",
       "      <td>9.000000</td>\n",
       "      <td>4.000000</td>\n",
       "      <td>3.000000</td>\n",
       "      <td>3.000000</td>\n",
       "      <td>0.000000</td>\n",
       "      <td>9.000000</td>\n",
       "      <td>9.000000</td>\n",
       "      <td>9.000000</td>\n",
       "      <td>9.000000</td>\n",
       "      <td>163.280000</td>\n",
       "    </tr>\n",
       "    <tr>\n",
       "      <th>75%</th>\n",
       "      <td>54222.750000</td>\n",
       "      <td>0.000000</td>\n",
       "      <td>15.000000</td>\n",
       "      <td>3.000000</td>\n",
       "      <td>15.000000</td>\n",
       "      <td>15.000000</td>\n",
       "      <td>4.000000</td>\n",
       "      <td>4.000000</td>\n",
       "      <td>6.000000</td>\n",
       "      <td>1.000000</td>\n",
       "      <td>15.000000</td>\n",
       "      <td>15.000000</td>\n",
       "      <td>15.000000</td>\n",
       "      <td>15.000000</td>\n",
       "      <td>196.392500</td>\n",
       "    </tr>\n",
       "    <tr>\n",
       "      <th>max</th>\n",
       "      <td>55630.000000</td>\n",
       "      <td>1.000000</td>\n",
       "      <td>61.000000</td>\n",
       "      <td>3.000000</td>\n",
       "      <td>61.000000</td>\n",
       "      <td>61.000000</td>\n",
       "      <td>6.000000</td>\n",
       "      <td>5.000000</td>\n",
       "      <td>22.000000</td>\n",
       "      <td>1.000000</td>\n",
       "      <td>61.000000</td>\n",
       "      <td>61.000000</td>\n",
       "      <td>61.000000</td>\n",
       "      <td>61.000000</td>\n",
       "      <td>324.990000</td>\n",
       "    </tr>\n",
       "  </tbody>\n",
       "</table>\n",
       "</div>"
      ],
      "text/plain": [
       "         CustomerID        Churn       Tenure     CityTier  WarehouseToHome  \\\n",
       "count   5630.000000  5630.000000  5630.000000  5630.000000      5630.000000   \n",
       "mean   52815.500000     0.168384    10.182795     1.654707        10.189899   \n",
       "std     1625.385339     0.374240     8.337294     0.915389         8.354164   \n",
       "min    50001.000000     0.000000     0.000000     1.000000         0.000000   \n",
       "25%    51408.250000     0.000000     3.000000     1.000000         3.000000   \n",
       "50%    52815.500000     0.000000     9.000000     1.000000         9.000000   \n",
       "75%    54222.750000     0.000000    15.000000     3.000000        15.000000   \n",
       "max    55630.000000     1.000000    61.000000     3.000000        61.000000   \n",
       "\n",
       "       HourSpendOnApp  NumberOfDeviceRegistered  SatisfactionScore  \\\n",
       "count     5630.000000               5630.000000        5630.000000   \n",
       "mean        10.189899                  3.688988           3.066785   \n",
       "std          8.354164                  1.023999           1.380194   \n",
       "min          0.000000                  1.000000           1.000000   \n",
       "25%          3.000000                  3.000000           2.000000   \n",
       "50%          9.000000                  4.000000           3.000000   \n",
       "75%         15.000000                  4.000000           4.000000   \n",
       "max         61.000000                  6.000000           5.000000   \n",
       "\n",
       "       NumberOfAddress     Complain  OrderAmountHikeFromlastYear   CouponUsed  \\\n",
       "count      5630.000000  5630.000000                  5630.000000  5630.000000   \n",
       "mean          4.214032     0.284902                    10.189899    10.189899   \n",
       "std           2.583586     0.451408                     8.354164     8.354164   \n",
       "min           1.000000     0.000000                     0.000000     0.000000   \n",
       "25%           2.000000     0.000000                     3.000000     3.000000   \n",
       "50%           3.000000     0.000000                     9.000000     9.000000   \n",
       "75%           6.000000     1.000000                    15.000000    15.000000   \n",
       "max          22.000000     1.000000                    61.000000    61.000000   \n",
       "\n",
       "        OrderCount  DaySinceLastOrder  CashbackAmount  \n",
       "count  5630.000000        5630.000000     5630.000000  \n",
       "mean     10.189899          10.189899      177.223030  \n",
       "std       8.354164           8.354164       49.207036  \n",
       "min       0.000000           0.000000        0.000000  \n",
       "25%       3.000000           3.000000      145.770000  \n",
       "50%       9.000000           9.000000      163.280000  \n",
       "75%      15.000000          15.000000      196.392500  \n",
       "max      61.000000          61.000000      324.990000  "
      ]
     },
     "execution_count": 150,
     "metadata": {},
     "output_type": "execute_result"
    }
   ],
   "source": [
    "df.describe()"
   ]
  },
  {
   "cell_type": "code",
   "execution_count": 152,
   "id": "ab209732-c7b8-4bf5-b5de-9dcca41da113",
   "metadata": {},
   "outputs": [
    {
     "data": {
      "text/plain": [
       "16.84"
      ]
     },
     "execution_count": 152,
     "metadata": {},
     "output_type": "execute_result"
    }
   ],
   "source": [
    "# Customer Churn Rate\n",
    "all_customars = len(df)\n",
    "churn_customars = df['Churn'].sum()\n",
    "Customer_Churn_Rate = (churn_customars/ all_customars * 100).round(2)\n",
    "Customer_Churn_Rate"
   ]
  },
  {
   "cell_type": "code",
   "execution_count": 154,
   "id": "4ff2714e-7bd6-4964-af45-e4cc4f42e30f",
   "metadata": {},
   "outputs": [
    {
     "data": {
      "text/plain": [
       "10.18"
      ]
     },
     "execution_count": 154,
     "metadata": {},
     "output_type": "execute_result"
    }
   ],
   "source": [
    "#Average Customer Tenure\n",
    "avg_customar_tenure = (df['Tenure'].sum() / df['CustomerID'].count()).round(2)\n",
    "avg_customar_tenure"
   ]
  },
  {
   "cell_type": "code",
   "execution_count": 156,
   "id": "684f0bec-decd-4a07-b526-fff81b7067cb",
   "metadata": {},
   "outputs": [
    {
     "data": {
      "text/plain": [
       "1750"
      ]
     },
     "execution_count": 156,
     "metadata": {},
     "output_type": "execute_result"
    }
   ],
   "source": [
    "#Net Promoter Score (NPS)\n",
    "Detractors = df[(df['SatisfactionScore'] == 1) | (df['SatisfactionScore'] == 2)]['CustomerID'].count()\n",
    "Detractors"
   ]
  },
  {
   "cell_type": "code",
   "execution_count": 158,
   "id": "627bb5b6-7cfe-4bc9-bba5-c334f0ec1cb3",
   "metadata": {},
   "outputs": [
    {
     "data": {
      "text/plain": [
       "2182"
      ]
     },
     "execution_count": 158,
     "metadata": {},
     "output_type": "execute_result"
    }
   ],
   "source": [
    "promoters = df[(df['SatisfactionScore'] == 4) | (df['SatisfactionScore'] == 5)]['CustomerID'].count()\n",
    "promoters"
   ]
  },
  {
   "cell_type": "code",
   "execution_count": 160,
   "id": "ed84810b-9869-4be8-9f55-84c7f60d507f",
   "metadata": {},
   "outputs": [
    {
     "data": {
      "text/plain": [
       "31.0"
      ]
     },
     "execution_count": 160,
     "metadata": {},
     "output_type": "execute_result"
    }
   ],
   "source": [
    "Detractors_per = round(Detractors / df['CustomerID'].count() * 100 , 0)\n",
    "Detractors_per"
   ]
  },
  {
   "cell_type": "markdown",
   "id": "4489365e-f8ff-4bdc-8d10-20d188d7efb6",
   "metadata": {},
   "source": [
    "A significant 31% of customers are dissatisfied with the service."
   ]
  },
  {
   "cell_type": "code",
   "execution_count": 163,
   "id": "e2fa60fe-db30-453f-9ab4-cef806ddcc15",
   "metadata": {},
   "outputs": [
    {
     "data": {
      "text/plain": [
       "39.0"
      ]
     },
     "execution_count": 163,
     "metadata": {},
     "output_type": "execute_result"
    }
   ],
   "source": [
    "promoters_per = round(promoters / df['CustomerID'].count() * 100 , 0)\n",
    "promoters_per"
   ]
  },
  {
   "cell_type": "code",
   "execution_count": 165,
   "id": "b8824bda-c281-40a9-83e1-a97c35b54b02",
   "metadata": {},
   "outputs": [
    {
     "data": {
      "text/plain": [
       "8.0"
      ]
     },
     "execution_count": 165,
     "metadata": {},
     "output_type": "execute_result"
    }
   ],
   "source": [
    "Net_Promoter_Score = (promoters_per - Detractors_per ) .round(0)\n",
    "Net_Promoter_Score"
   ]
  },
  {
   "cell_type": "code",
   "execution_count": 167,
   "id": "4ea63e81-bd5a-4b2f-92ac-327787874de2",
   "metadata": {},
   "outputs": [
    {
     "data": {
      "text/plain": [
       "4432"
      ]
     },
     "execution_count": 167,
     "metadata": {},
     "output_type": "execute_result"
    }
   ],
   "source": [
    "# Repeat Purchase Rate\n",
    "customars_with_more_than_order= df[df['OrderCount'] > 1]['OrderCount'].count()\n",
    "customars_with_more_than_order"
   ]
  },
  {
   "cell_type": "code",
   "execution_count": 169,
   "id": "091d207f-83a4-441b-9206-08c711ca12ed",
   "metadata": {},
   "outputs": [
    {
     "data": {
      "text/plain": [
       "5630"
      ]
     },
     "execution_count": 169,
     "metadata": {},
     "output_type": "execute_result"
    }
   ],
   "source": [
    "all_customars = df['CustomerID'].count()\n",
    "all_customars"
   ]
  },
  {
   "cell_type": "code",
   "execution_count": 171,
   "id": "e2ac7afd-4142-4dcd-9076-a89f60dbe615",
   "metadata": {},
   "outputs": [
    {
     "data": {
      "text/plain": [
       "79.0"
      ]
     },
     "execution_count": 171,
     "metadata": {},
     "output_type": "execute_result"
    }
   ],
   "source": [
    "Repeat_Purchase_Rate = (customars_with_more_than_order / all_customars * 100).round(0)\n",
    "Repeat_Purchase_Rate"
   ]
  },
  {
   "cell_type": "markdown",
   "id": "bb34ff9d-7029-4c03-8f53-e624a0c141bc",
   "metadata": {},
   "source": [
    "إذا كانت NPS لديك 8%، فهذا يشير إلى أن لديك أكثر من العملاء الراضين (المروجين) مقارنة بالمنتقدين. ولكن النسبة ليست مرتفعة جدًا، مما يعني أنه لا يزال هناك مجال لتحسين تجربة العملاء وتقليل الانتقادات."
   ]
  },
  {
   "cell_type": "code",
   "execution_count": 174,
   "id": "f107750c-6f34-4fcf-b993-ddcecac907f9",
   "metadata": {},
   "outputs": [
    {
     "data": {
      "text/plain": [
       "1604"
      ]
     },
     "execution_count": 174,
     "metadata": {},
     "output_type": "execute_result"
    }
   ],
   "source": [
    "# Customer Feedback and Complaint Rates\n",
    "customar_feedback = df[df['Complain'] == 1]['Complain'].count()\n",
    "customar_feedback"
   ]
  },
  {
   "cell_type": "code",
   "execution_count": 176,
   "id": "463d941b-7e61-497b-8062-e07e3de00d6c",
   "metadata": {},
   "outputs": [
    {
     "data": {
      "text/plain": [
       "28.0"
      ]
     },
     "execution_count": 176,
     "metadata": {},
     "output_type": "execute_result"
    }
   ],
   "source": [
    "customar_feedback_rate = (customar_feedback/ all_customars * 100).round(0)\n",
    "customar_feedback_rate"
   ]
  }
 ],
 "metadata": {
  "kernelspec": {
   "display_name": "Python [conda env:base] *",
   "language": "python",
   "name": "conda-base-py"
  },
  "language_info": {
   "codemirror_mode": {
    "name": "ipython",
    "version": 3
   },
   "file_extension": ".py",
   "mimetype": "text/x-python",
   "name": "python",
   "nbconvert_exporter": "python",
   "pygments_lexer": "ipython3",
   "version": "3.12.4"
  }
 },
 "nbformat": 4,
 "nbformat_minor": 5
}
